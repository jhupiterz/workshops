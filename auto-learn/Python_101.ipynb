{
 "cells": [
  {
   "cell_type": "markdown",
   "id": "2581b143",
   "metadata": {},
   "source": [
    "Python 101"
   ]
  },
  {
   "cell_type": "code",
   "execution_count": null,
   "id": "e6270468",
   "metadata": {},
   "outputs": [],
   "source": [
    "\n",
    "def add_numbers(a, b):\n",
    "    return a + b\n",
    "    \n",
    "result = add_numbers(5, 10)\n",
    "print(result)\n"
   ]
  }
 ],
 "metadata": {},
 "nbformat": 4,
 "nbformat_minor": 5
}
