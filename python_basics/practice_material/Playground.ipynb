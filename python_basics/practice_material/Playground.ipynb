{
 "cells": [
  {
   "cell_type": "markdown",
   "id": "4a2c2b18",
   "metadata": {},
   "source": [
    "# My practice notebook"
   ]
  },
  {
   "cell_type": "code",
   "execution_count": 1,
   "id": "8cf217eb",
   "metadata": {},
   "outputs": [
    {
     "data": {
      "text/plain": [
       "123"
      ]
     },
     "execution_count": 1,
     "metadata": {},
     "output_type": "execute_result"
    }
   ],
   "source": [
    "25 + 98"
   ]
  },
  {
   "cell_type": "code",
   "execution_count": 2,
   "id": "84316fbb",
   "metadata": {},
   "outputs": [
    {
     "data": {
      "text/plain": [
       "7.961783439490445"
      ]
     },
     "execution_count": 2,
     "metadata": {},
     "output_type": "execute_result"
    }
   ],
   "source": [
    "25 / 3.14"
   ]
  },
  {
   "cell_type": "code",
   "execution_count": 3,
   "id": "47f88b0e",
   "metadata": {},
   "outputs": [
    {
     "data": {
      "text/plain": [
       "'hello world'"
      ]
     },
     "execution_count": 3,
     "metadata": {},
     "output_type": "execute_result"
    }
   ],
   "source": [
    "\"hello\" + \" world\""
   ]
  },
  {
   "cell_type": "code",
   "execution_count": 4,
   "id": "b67611e0",
   "metadata": {},
   "outputs": [],
   "source": [
    "my_name = \"Julie\""
   ]
  },
  {
   "cell_type": "code",
   "execution_count": 5,
   "id": "f4a026ce",
   "metadata": {},
   "outputs": [
    {
     "data": {
      "text/plain": [
       "'My name is Julie'"
      ]
     },
     "execution_count": 5,
     "metadata": {},
     "output_type": "execute_result"
    }
   ],
   "source": [
    "\"My name is \" + my_name"
   ]
  },
  {
   "cell_type": "code",
   "execution_count": 6,
   "id": "dbbe9579",
   "metadata": {},
   "outputs": [],
   "source": [
    "student_names = [\"Mark\", \"Alex\", \"Bob\"]"
   ]
  },
  {
   "cell_type": "code",
   "execution_count": 7,
   "id": "fe22e129",
   "metadata": {},
   "outputs": [
    {
     "data": {
      "text/plain": [
       "['Mark', 'Alex', 'Bob']"
      ]
     },
     "execution_count": 7,
     "metadata": {},
     "output_type": "execute_result"
    }
   ],
   "source": [
    "student_names"
   ]
  },
  {
   "cell_type": "code",
   "execution_count": 10,
   "id": "32160cdd",
   "metadata": {},
   "outputs": [
    {
     "name": "stdout",
     "output_type": "stream",
     "text": [
      "MARK\n",
      "ALEX\n",
      "BOB\n"
     ]
    }
   ],
   "source": [
    "for student_name in student_names:\n",
    "    print(student_name.upper())"
   ]
  },
  {
   "cell_type": "code",
   "execution_count": 11,
   "id": "f2e5e7d1",
   "metadata": {},
   "outputs": [],
   "source": [
    "def what_can_mark_do(mark_age):\n",
    "    print(f\"Mark is {mark_age}\")"
   ]
  },
  {
   "cell_type": "code",
   "execution_count": 12,
   "id": "b66e711e",
   "metadata": {},
   "outputs": [
    {
     "name": "stdout",
     "output_type": "stream",
     "text": [
      "Mark is 17\n"
     ]
    }
   ],
   "source": [
    "what_can_mark_do(mark_age = 17)"
   ]
  },
  {
   "cell_type": "code",
   "execution_count": 16,
   "id": "c088026a",
   "metadata": {},
   "outputs": [],
   "source": [
    "def mark_age_in_2025(mark_age):\n",
    "    older_mark_age = mark_age + 2\n",
    "    return older_mark_age"
   ]
  },
  {
   "cell_type": "code",
   "execution_count": 17,
   "id": "e43b758c",
   "metadata": {},
   "outputs": [
    {
     "data": {
      "text/plain": [
       "34"
      ]
     },
     "execution_count": 17,
     "metadata": {},
     "output_type": "execute_result"
    }
   ],
   "source": [
    "mark_age_in_2025(mark_age = 32)"
   ]
  },
  {
   "cell_type": "code",
   "execution_count": 18,
   "id": "8633fd1a",
   "metadata": {},
   "outputs": [],
   "source": [
    "older_mark_age = mark_age_in_2025(mark_age = 32)"
   ]
  },
  {
   "cell_type": "code",
   "execution_count": 19,
   "id": "5805664f",
   "metadata": {},
   "outputs": [
    {
     "data": {
      "text/plain": [
       "34"
      ]
     },
     "execution_count": 19,
     "metadata": {},
     "output_type": "execute_result"
    }
   ],
   "source": [
    "older_mark_age"
   ]
  },
  {
   "cell_type": "code",
   "execution_count": null,
   "id": "72797dd5",
   "metadata": {},
   "outputs": [],
   "source": []
  }
 ],
 "metadata": {
  "kernelspec": {
   "display_name": "Python 3 (ipykernel)",
   "language": "python",
   "name": "python3"
  },
  "language_info": {
   "codemirror_mode": {
    "name": "ipython",
    "version": 3
   },
   "file_extension": ".py",
   "mimetype": "text/x-python",
   "name": "python",
   "nbconvert_exporter": "python",
   "pygments_lexer": "ipython3",
   "version": "3.9.2"
  },
  "toc": {
   "base_numbering": 1,
   "nav_menu": {},
   "number_sections": true,
   "sideBar": true,
   "skip_h1_title": false,
   "title_cell": "Table of Contents",
   "title_sidebar": "Contents",
   "toc_cell": false,
   "toc_position": {},
   "toc_section_display": true,
   "toc_window_display": false
  },
  "varInspector": {
   "cols": {
    "lenName": 16,
    "lenType": 16,
    "lenVar": 40
   },
   "kernels_config": {
    "python": {
     "delete_cmd_postfix": "",
     "delete_cmd_prefix": "del ",
     "library": "var_list.py",
     "varRefreshCmd": "print(var_dic_list())"
    },
    "r": {
     "delete_cmd_postfix": ") ",
     "delete_cmd_prefix": "rm(",
     "library": "var_list.r",
     "varRefreshCmd": "cat(var_dic_list()) "
    }
   },
   "types_to_exclude": [
    "module",
    "function",
    "builtin_function_or_method",
    "instance",
    "_Feature"
   ],
   "window_display": false
  }
 },
 "nbformat": 4,
 "nbformat_minor": 5
}
