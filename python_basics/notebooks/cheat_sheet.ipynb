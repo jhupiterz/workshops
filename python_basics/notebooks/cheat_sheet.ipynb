{
 "cells": [
  {
   "cell_type": "markdown",
   "id": "71b06617",
   "metadata": {},
   "source": [
    "# Recap of Python Basics"
   ]
  },
  {
   "cell_type": "markdown",
   "id": "a8652257",
   "metadata": {},
   "source": [
    "Use this Notebook to help you complete the coding challenge :)"
   ]
  },
  {
   "cell_type": "markdown",
   "id": "10f9c6ad",
   "metadata": {},
   "source": [
    "## Data types & variables"
   ]
  },
  {
   "cell_type": "markdown",
   "id": "02660e8a",
   "metadata": {},
   "source": [
    "### Basic data types"
   ]
  },
  {
   "cell_type": "code",
   "execution_count": null,
   "id": "280ca49e",
   "metadata": {},
   "outputs": [],
   "source": [
    "3 # integers (int)\n",
    "3.14 # floats (float)\n",
    "\"my string\" # strings (str)\n",
    "1 > 5 # booleans (bool)"
   ]
  },
  {
   "cell_type": "markdown",
   "id": "bf922187",
   "metadata": {},
   "source": [
    "You can check the type of your data using `type()`"
   ]
  },
  {
   "cell_type": "code",
   "execution_count": 3,
   "id": "cb1bbea0",
   "metadata": {},
   "outputs": [
    {
     "data": {
      "text/plain": [
       "int"
      ]
     },
     "execution_count": 3,
     "metadata": {},
     "output_type": "execute_result"
    }
   ],
   "source": [
    "# Example\n",
    "type(3)"
   ]
  },
  {
   "cell_type": "code",
   "execution_count": 4,
   "id": "a4c6b39a",
   "metadata": {},
   "outputs": [
    {
     "data": {
      "text/plain": [
       "bool"
      ]
     },
     "execution_count": 4,
     "metadata": {},
     "output_type": "execute_result"
    }
   ],
   "source": [
    "# Example \n",
    "type(1>5)"
   ]
  },
  {
   "cell_type": "markdown",
   "id": "5e7c38ce",
   "metadata": {},
   "source": [
    "### Variables"
   ]
  },
  {
   "cell_type": "markdown",
   "id": "ac9a7537",
   "metadata": {},
   "source": [
    "Syntax for creating a new variable: `variable_name = content`"
   ]
  },
  {
   "cell_type": "code",
   "execution_count": 5,
   "id": "5086ffdb",
   "metadata": {},
   "outputs": [],
   "source": [
    "# Example\n",
    "my_integer = 3"
   ]
  },
  {
   "cell_type": "code",
   "execution_count": 6,
   "id": "aa67cfc5",
   "metadata": {},
   "outputs": [],
   "source": [
    "# Example \n",
    "my_string = \"Bonjour\""
   ]
  },
  {
   "cell_type": "markdown",
   "id": "0cc174d3",
   "metadata": {},
   "source": [
    "Access variables by calling them by their names"
   ]
  },
  {
   "cell_type": "code",
   "execution_count": 7,
   "id": "1198cdda",
   "metadata": {},
   "outputs": [
    {
     "data": {
      "text/plain": [
       "3"
      ]
     },
     "execution_count": 7,
     "metadata": {},
     "output_type": "execute_result"
    }
   ],
   "source": [
    "# Example\n",
    "my_integer"
   ]
  },
  {
   "cell_type": "markdown",
   "id": "674b9d7f",
   "metadata": {},
   "source": [
    "## Methods"
   ]
  },
  {
   "cell_type": "markdown",
   "id": "d9cfbaef",
   "metadata": {},
   "source": [
    "Methods are small pieces of code written and published online by someone else.</br>\n",
    "Syntax to use methods: `variable_name.method_name()`"
   ]
  },
  {
   "cell_type": "code",
   "execution_count": 8,
   "id": "ca272ae7",
   "metadata": {},
   "outputs": [
    {
     "data": {
      "text/plain": [
       "'BONJOUR'"
      ]
     },
     "execution_count": 8,
     "metadata": {},
     "output_type": "execute_result"
    }
   ],
   "source": [
    "# Example\n",
    "my_string.upper()"
   ]
  },
  {
   "cell_type": "markdown",
   "id": "28fd5b36",
   "metadata": {},
   "source": [
    "Methods are grouped in libraries, and some need to be imported inside your Notebook, using the following syntax: `from library import method`"
   ]
  },
  {
   "cell_type": "code",
   "execution_count": null,
   "id": "ca6a2d0f",
   "metadata": {},
   "outputs": [],
   "source": [
    "# Example\n",
    "from numpy import mean"
   ]
  },
  {
   "cell_type": "markdown",
   "id": "f784dcdf",
   "metadata": {},
   "source": [
    "## Lists"
   ]
  },
  {
   "cell_type": "markdown",
   "id": "77ef5c32",
   "metadata": {},
   "source": [
    "Lists are sequences of elements, where each element has a position (aka `index`) in the list</br>\n",
    "You can create a new list using the following syntax: `list_name = [element_0, element_1, ..., element_n]`</br>\n",
    "All the elements in a list don't necessarily have the same data type, you can mix strings, to floats, to integers, to booleans if you want."
   ]
  },
  {
   "cell_type": "code",
   "execution_count": 9,
   "id": "58b94725",
   "metadata": {},
   "outputs": [],
   "source": [
    "# Example - list of names\n",
    "names = [\"Marco\", \"Zoe\", \"Sonia\"]"
   ]
  },
  {
   "cell_type": "code",
   "execution_count": 10,
   "id": "f701d011",
   "metadata": {},
   "outputs": [],
   "source": [
    "# Example - list of prices\n",
    "prices = [45.50, 380.15, 18]"
   ]
  },
  {
   "cell_type": "markdown",
   "id": "00209f5e",
   "metadata": {},
   "source": [
    "Access an element of the list using its `index`"
   ]
  },
  {
   "cell_type": "code",
   "execution_count": 12,
   "id": "d134383f",
   "metadata": {},
   "outputs": [
    {
     "data": {
      "text/plain": [
       "'Marco'"
      ]
     },
     "execution_count": 12,
     "metadata": {},
     "output_type": "execute_result"
    }
   ],
   "source": [
    "# Example\n",
    "names[0]"
   ]
  },
  {
   "cell_type": "code",
   "execution_count": 13,
   "id": "8e08fa24",
   "metadata": {},
   "outputs": [
    {
     "data": {
      "text/plain": [
       "18"
      ]
     },
     "execution_count": 13,
     "metadata": {},
     "output_type": "execute_result"
    }
   ],
   "source": [
    "# Example\n",
    "prices[2]"
   ]
  },
  {
   "cell_type": "markdown",
   "id": "ebda6241",
   "metadata": {},
   "source": [
    "### Some useful tricks on lists"
   ]
  },
  {
   "cell_type": "code",
   "execution_count": 20,
   "id": "131b9d8a",
   "metadata": {},
   "outputs": [],
   "source": [
    "# Add an element at the end of a list using my_list.append(new_element)\n",
    "prices.append(36.80)"
   ]
  },
  {
   "cell_type": "code",
   "execution_count": 21,
   "id": "962335c1",
   "metadata": {},
   "outputs": [
    {
     "data": {
      "text/plain": [
       "4"
      ]
     },
     "execution_count": 21,
     "metadata": {},
     "output_type": "execute_result"
    }
   ],
   "source": [
    "# Check the length of your list (i.e. how many elements inside your list)\n",
    "len(prices)"
   ]
  },
  {
   "cell_type": "markdown",
   "id": "4b16b630",
   "metadata": {},
   "source": [
    "## Loops"
   ]
  },
  {
   "cell_type": "markdown",
   "id": "e197d018",
   "metadata": {},
   "source": [
    "`for` loops allow you to repeat the same action a certain number of times, typically using iterable dta types like `lists`.</br>\n",
    "The basic syntax of a `for` loop is as follows: \n",
    "````\n",
    "for single_element in list_of_elements:\n",
    "    do something with the single_element\n",
    "````\n"
   ]
  },
  {
   "cell_type": "code",
   "execution_count": 14,
   "id": "f64bc2be",
   "metadata": {},
   "outputs": [
    {
     "name": "stdout",
     "output_type": "stream",
     "text": [
      "Marco\n",
      "Zoe\n",
      "Sonia\n"
     ]
    }
   ],
   "source": [
    "# Example\n",
    "for name in names:\n",
    "    print(name)"
   ]
  },
  {
   "cell_type": "markdown",
   "id": "7985cecf",
   "metadata": {},
   "source": [
    "## Control flow"
   ]
  },
  {
   "cell_type": "markdown",
   "id": "f8c721dd",
   "metadata": {},
   "source": [
    "Code is executed line-by-line, starting at line 1, unless told otherwise, using `if ... elif ... else` statements.</br>\n",
    "The basic syntax of `if ... elif ... else` statements is as follows:\n",
    "````\n",
    "if condition_1 is True:\n",
    "   do something\n",
    "elif condition_2 is True:\n",
    "   do something else\n",
    "else:\n",
    "   do the default action\n",
    "````"
   ]
  },
  {
   "cell_type": "code",
   "execution_count": 15,
   "id": "1649dd03",
   "metadata": {},
   "outputs": [
    {
     "name": "stdout",
     "output_type": "stream",
     "text": [
      "This is too expensive\n"
     ]
    }
   ],
   "source": [
    "# Example\n",
    "max_budget = 200\n",
    "price = 250\n",
    "if price > max_budget:\n",
    "    print(\"This is too expensive\")\n",
    "else:\n",
    "    print(\"This is within budget\")"
   ]
  },
  {
   "cell_type": "markdown",
   "id": "7965e558",
   "metadata": {},
   "source": [
    "## Functions"
   ]
  },
  {
   "cell_type": "markdown",
   "id": "9bf20088",
   "metadata": {},
   "source": [
    "Functions are like methods, unless this time YOU write them to reuse them later. They are great tools to automate tasks and save you lots of time!</br>\n",
    "The basic syntax to define a fucntion is as follows:\n",
    "````\n",
    "def my_function():\n",
    "    do something\n",
    "````\n",
    "You can then reuse your function by calling it by its name, like so:\n",
    "````\n",
    "my_function()\n",
    "````"
   ]
  },
  {
   "cell_type": "code",
   "execution_count": 17,
   "id": "dd2d6fb2",
   "metadata": {},
   "outputs": [
    {
     "name": "stdout",
     "output_type": "stream",
     "text": [
      "Julie\n"
     ]
    }
   ],
   "source": [
    "# Example\n",
    "def print_my_name():\n",
    "    my_name = \"Julie\"\n",
    "    print(my_name)\n",
    "\n",
    "print_my_name()"
   ]
  },
  {
   "cell_type": "markdown",
   "id": "58de9e92",
   "metadata": {},
   "source": [
    "You can make your functions a lot more flexible using `arguments` that you write in between the double brackets `( )`."
   ]
  },
  {
   "cell_type": "code",
   "execution_count": 19,
   "id": "0aa2d0f9",
   "metadata": {},
   "outputs": [
    {
     "name": "stdout",
     "output_type": "stream",
     "text": [
      "Marco\n"
     ]
    }
   ],
   "source": [
    "# Example\n",
    "def print_my_name(my_name):\n",
    "    print(my_name)\n",
    "\n",
    "print_my_name(my_name = \"Marco\")"
   ]
  }
 ],
 "metadata": {
  "kernelspec": {
   "display_name": "Python 3 (ipykernel)",
   "language": "python",
   "name": "python3"
  },
  "language_info": {
   "codemirror_mode": {
    "name": "ipython",
    "version": 3
   },
   "file_extension": ".py",
   "mimetype": "text/x-python",
   "name": "python",
   "nbconvert_exporter": "python",
   "pygments_lexer": "ipython3",
   "version": "3.9.2"
  },
  "toc": {
   "base_numbering": 1,
   "nav_menu": {},
   "number_sections": true,
   "sideBar": true,
   "skip_h1_title": false,
   "title_cell": "Table of Contents",
   "title_sidebar": "Contents",
   "toc_cell": false,
   "toc_position": {},
   "toc_section_display": true,
   "toc_window_display": false
  },
  "varInspector": {
   "cols": {
    "lenName": 16,
    "lenType": 16,
    "lenVar": 40
   },
   "kernels_config": {
    "python": {
     "delete_cmd_postfix": "",
     "delete_cmd_prefix": "del ",
     "library": "var_list.py",
     "varRefreshCmd": "print(var_dic_list())"
    },
    "r": {
     "delete_cmd_postfix": ") ",
     "delete_cmd_prefix": "rm(",
     "library": "var_list.r",
     "varRefreshCmd": "cat(var_dic_list()) "
    }
   },
   "types_to_exclude": [
    "module",
    "function",
    "builtin_function_or_method",
    "instance",
    "_Feature"
   ],
   "window_display": false
  }
 },
 "nbformat": 4,
 "nbformat_minor": 5
}
