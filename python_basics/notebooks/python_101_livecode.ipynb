{
 "cells": [
  {
   "cell_type": "markdown",
   "id": "cb9b7dc2",
   "metadata": {},
   "source": [
    "# Jupyter Notebook"
   ]
  },
  {
   "cell_type": "markdown",
   "id": "a37ff1de",
   "metadata": {},
   "source": [
    "## What are notebooks?"
   ]
  },
  {
   "cell_type": "markdown",
   "id": "887fd441",
   "metadata": {},
   "source": [
    "Notebooks are workspaces where you can write and execute code, write some notes, insert images, videos etc.\n",
    "\n",
    "It is a super useful tool often used by data analysts to document their analysis process."
   ]
  },
  {
   "cell_type": "markdown",
   "id": "a3bade61",
   "metadata": {},
   "source": [
    "**A notebook is made of cells, code cells to write code, and text (i.e. Mardown) cells to take notes**"
   ]
  },
  {
   "cell_type": "markdown",
   "id": "00bfe12a",
   "metadata": {},
   "source": [
    "### Markdown cells"
   ]
  },
  {
   "cell_type": "markdown",
   "id": "f1727ed9",
   "metadata": {},
   "source": [
    "This is a note (i.e. Markdown) cell</br>\n",
    "Markdown works just like regular text to whcih you can add formatting</br>\n",
    "For example, adding two stars before and after a word/sentence will format it in **BOLD**</br>\n",
    "You need to run the Markdown cell for the text to be formatted"
   ]
  },
  {
   "cell_type": "markdown",
   "id": "f1e712d0",
   "metadata": {},
   "source": [
    "### Code cells"
   ]
  },
  {
   "cell_type": "markdown",
   "id": "44c88a42",
   "metadata": {},
   "source": [
    "Code cells have an `In [ ]` tag</br>\n",
    "Once executed, an output `Out [ ]` will show up as well</br>"
   ]
  },
  {
   "cell_type": "code",
   "execution_count": 1,
   "id": "58530569",
   "metadata": {},
   "outputs": [
    {
     "data": {
      "text/plain": [
       "2"
      ]
     },
     "execution_count": 1,
     "metadata": {},
     "output_type": "execute_result"
    }
   ],
   "source": [
    "# this is a code cell\n",
    "1 + 1"
   ]
  },
  {
   "cell_type": "markdown",
   "id": "f7eb8b4a",
   "metadata": {},
   "source": [
    "## How do you manipulate cells?"
   ]
  },
  {
   "cell_type": "markdown",
   "id": "148f8656",
   "metadata": {},
   "source": [
    "You execute a cell by press on `Shit + Enter` keys</br>\n",
    "Once run, a cell can be re-executed for how many times you'd like</br>\n",
    "You can add a cell above by selecting the cell (left click on strip) and press the `A` key</br>\n",
    "You can add a cell below by selecting the cell (left click on strip) and press the `B` key</br>\n",
    "You delete a cell by double pressing on the `D` key</br>"
   ]
  },
  {
   "cell_type": "markdown",
   "id": "137d9169",
   "metadata": {},
   "source": [
    "# Python 101"
   ]
  },
  {
   "cell_type": "markdown",
   "id": "96367baa",
   "metadata": {},
   "source": [
    "## Data types & Variable"
   ]
  },
  {
   "cell_type": "markdown",
   "id": "c43686fb",
   "metadata": {},
   "source": [
    "### Numeric data"
   ]
  },
  {
   "cell_type": "markdown",
   "id": "4d44dd42",
   "metadata": {},
   "source": [
    "❓**Q1** - Define a new variable called `integer` and give it any integer value"
   ]
  },
  {
   "cell_type": "code",
   "execution_count": 1,
   "id": "32437760",
   "metadata": {},
   "outputs": [],
   "source": [
    "# Insert your code below\n"
   ]
  },
  {
   "cell_type": "code",
   "execution_count": null,
   "id": "e23f3303",
   "metadata": {},
   "outputs": [],
   "source": [
    "# Test your code \n",
    "type(integer) == int"
   ]
  },
  {
   "cell_type": "markdown",
   "id": "262718e5",
   "metadata": {},
   "source": [
    "❓**Q2** - Define a new variable called `floating_point` and give it any float value"
   ]
  },
  {
   "cell_type": "code",
   "execution_count": 2,
   "id": "1db88fb9",
   "metadata": {},
   "outputs": [],
   "source": [
    "# Insert your code below\n"
   ]
  },
  {
   "cell_type": "code",
   "execution_count": null,
   "id": "ed26a1e2",
   "metadata": {},
   "outputs": [],
   "source": [
    "# Test your code\n",
    "type(floating_point) == float"
   ]
  },
  {
   "cell_type": "markdown",
   "id": "cb5e820a",
   "metadata": {},
   "source": [
    "❓**Q3** - Subtract your floating point to your integer and store the result in a new variable called `result`"
   ]
  },
  {
   "cell_type": "code",
   "execution_count": 3,
   "id": "06a9aaea",
   "metadata": {},
   "outputs": [],
   "source": [
    "# Insert your code here\n"
   ]
  },
  {
   "cell_type": "code",
   "execution_count": null,
   "id": "34a79e3a",
   "metadata": {},
   "outputs": [],
   "source": [
    "# Test your code\n",
    "type(result) == float"
   ]
  },
  {
   "cell_type": "markdown",
   "id": "1edab728",
   "metadata": {},
   "source": [
    "❓**Q4** - Can you guess the output of the statement below?"
   ]
  },
  {
   "cell_type": "code",
   "execution_count": null,
   "id": "c968bb40",
   "metadata": {},
   "outputs": [],
   "source": [
    "half_integer = integer/2\n",
    "(type(half_integer) == type(integer)) == #YOUR GUESS (True or False)"
   ]
  },
  {
   "cell_type": "markdown",
   "id": "689142fb",
   "metadata": {},
   "source": [
    "❓**Q5** - Define a new variable called `disk_area` containing the value of the area of a disk with a `radius` equal to `half_integer`"
   ]
  },
  {
   "cell_type": "markdown",
   "id": "8c784403",
   "metadata": {},
   "source": [
    "<img src=\"../images/disk_area.png\" width=\"500\" align=\"left\"/>"
   ]
  },
  {
   "cell_type": "code",
   "execution_count": null,
   "id": "43601ec9",
   "metadata": {},
   "outputs": [],
   "source": [
    "# Insert your code below\n",
    "pi = 3.14\n",
    "radius = #YOUR CODE HERE\n",
    "disk_area = #YOUR CODE HERE"
   ]
  },
  {
   "cell_type": "code",
   "execution_count": null,
   "id": "5cb845c1",
   "metadata": {},
   "outputs": [],
   "source": [
    "# Test your code\n",
    "disk_area == pi*radius**2"
   ]
  },
  {
   "cell_type": "markdown",
   "id": "c98e30eb",
   "metadata": {},
   "source": [
    "❓**Q6** - Can you find a method to round `disk_area` to only 1 decimal and store the rounded value inside `disk_area`?</br> **If you're unsure, GOOGLE it!**"
   ]
  },
  {
   "cell_type": "code",
   "execution_count": null,
   "id": "85397d9e",
   "metadata": {},
   "outputs": [],
   "source": [
    "# Insert your code below\n"
   ]
  },
  {
   "cell_type": "code",
   "execution_count": null,
   "id": "47b42afd",
   "metadata": {},
   "outputs": [],
   "source": [
    "# Test your code\n",
    "len(str(disk_area).split(\".\")[1]) == 1"
   ]
  },
  {
   "cell_type": "markdown",
   "id": "4ba8fbd3",
   "metadata": {},
   "source": [
    "### Strings"
   ]
  },
  {
   "cell_type": "markdown",
   "id": "a74eabf7",
   "metadata": {},
   "source": [
    "❓**Q7** - Define a new variable `disk_area_string` of type `string` containing the value of `disk_area`"
   ]
  },
  {
   "cell_type": "code",
   "execution_count": null,
   "id": "22053bdf",
   "metadata": {},
   "outputs": [],
   "source": [
    "# Insert your code below\n"
   ]
  },
  {
   "cell_type": "code",
   "execution_count": null,
   "id": "0678bd97",
   "metadata": {},
   "outputs": [],
   "source": [
    "# Test your code\n",
    "print(type(disk_area_string) == str)\n",
    "print(disk_area_string == str(disk_area))"
   ]
  },
  {
   "cell_type": "markdown",
   "id": "079615e9",
   "metadata": {},
   "source": [
    "❓**Q8** - Correct the code below for it to print `\"The disk has an area of [value of disk_area]\"`"
   ]
  },
  {
   "cell_type": "code",
   "execution_count": null,
   "id": "936668c2",
   "metadata": {},
   "outputs": [],
   "source": [
    "# Modify the code below\n",
    "sentence = \"The disk has an area of disk_area\"\n",
    "sentence"
   ]
  },
  {
   "cell_type": "markdown",
   "id": "ab03e85a",
   "metadata": {},
   "source": [
    "❓**Q9** - Correct the code below for it to be `True`"
   ]
  },
  {
   "cell_type": "code",
   "execution_count": null,
   "id": "46664b7e",
   "metadata": {},
   "outputs": [],
   "source": [
    "# Modify the code below\n",
    "type(disk_area_string) == type(disk_area)"
   ]
  },
  {
   "cell_type": "markdown",
   "id": "66dfd6de",
   "metadata": {},
   "source": [
    "❓**Q10** - Can you find a method to write `sentence` all in lower case and store the result in `sentence_lower`"
   ]
  },
  {
   "cell_type": "code",
   "execution_count": null,
   "id": "0d1b65af",
   "metadata": {},
   "outputs": [],
   "source": [
    "# Insert your code below\n"
   ]
  },
  {
   "cell_type": "code",
   "execution_count": null,
   "id": "361c8187",
   "metadata": {},
   "outputs": [],
   "source": [
    "# Test your code\n",
    "sentence_lower.islower()"
   ]
  },
  {
   "cell_type": "markdown",
   "id": "fed7fffa",
   "metadata": {},
   "source": [
    "## More methods"
   ]
  },
  {
   "cell_type": "markdown",
   "id": "974dc0ac",
   "metadata": {},
   "source": [
    "Recall how some methods are built-in Python and don't require you to install or import them</br>\n",
    "Many other methods need to be installed on your laptop and imported in this Notebook before using them"
   ]
  },
  {
   "cell_type": "markdown",
   "id": "1ad0a5a7",
   "metadata": {},
   "source": [
    "Let's install NumPy!"
   ]
  },
  {
   "cell_type": "code",
   "execution_count": 2,
   "id": "a82373fd",
   "metadata": {},
   "outputs": [
    {
     "name": "stdout",
     "output_type": "stream",
     "text": [
      "Requirement already satisfied: numpy in /Users/commander/.pyenv/versions/3.8.12/envs/lewagon_current/lib/python3.8/site-packages (1.18.5)\n",
      "\n",
      "\u001b[1m[\u001b[0m\u001b[34;49mnotice\u001b[0m\u001b[1;39;49m]\u001b[0m\u001b[39;49m A new release of pip is available: \u001b[0m\u001b[31;49m23.0.1\u001b[0m\u001b[39;49m -> \u001b[0m\u001b[32;49m23.1.2\u001b[0m\n",
      "\u001b[1m[\u001b[0m\u001b[34;49mnotice\u001b[0m\u001b[1;39;49m]\u001b[0m\u001b[39;49m To update, run: \u001b[0m\u001b[32;49mpip install --upgrade pip\u001b[0m\n"
     ]
    }
   ],
   "source": [
    "# Run this cell to install the Numpy library on your laptop\n",
    "!pip install numpy"
   ]
  },
  {
   "cell_type": "markdown",
   "id": "dac1f28a",
   "metadata": {},
   "source": [
    "❓**Q11** - Now you should import your newly installed library"
   ]
  },
  {
   "cell_type": "code",
   "execution_count": 3,
   "id": "88b0cb0c",
   "metadata": {},
   "outputs": [],
   "source": [
    "# Insert your code below\n"
   ]
  },
  {
   "cell_type": "markdown",
   "id": "33a2fffb",
   "metadata": {},
   "source": [
    "You can access NumPy documentation [here](https://numpy.org/doc/stable/reference/index.html)"
   ]
  },
  {
   "cell_type": "markdown",
   "id": "c61d8a8f",
   "metadata": {},
   "source": [
    "❓**Q12** - Given the list of squarefootage below, can you find a Numpy method to compute the average squarefootage?</br>\n",
    "Store the result of your method inside the variable `avg_squarefootage`"
   ]
  },
  {
   "cell_type": "code",
   "execution_count": 4,
   "id": "814b4357",
   "metadata": {},
   "outputs": [],
   "source": [
    "squarefootage = [1200, 6500, 980, 1256]"
   ]
  },
  {
   "cell_type": "code",
   "execution_count": null,
   "id": "08f18e29",
   "metadata": {},
   "outputs": [],
   "source": [
    "# insert your code below\n"
   ]
  },
  {
   "cell_type": "code",
   "execution_count": null,
   "id": "e30cb345",
   "metadata": {},
   "outputs": [],
   "source": [
    "# Test your code\n",
    "avg_squarefootage == 2484.0"
   ]
  },
  {
   "cell_type": "markdown",
   "id": "9c56fd52",
   "metadata": {},
   "source": [
    "### Iterable data types"
   ]
  },
  {
   "cell_type": "markdown",
   "id": "90f3d143",
   "metadata": {},
   "source": [
    "Recall that iterable data types are just sequences of elements stored in a single variable.</br>\n",
    "In class we learned about one iterable data type -> `list`</br>"
   ]
  },
  {
   "cell_type": "markdown",
   "id": "f942424b",
   "metadata": {},
   "source": [
    "❓**Q12** - Define a list called `cities` containing the following elements: `Toronto`, `Montreal`, `New York`, `Singapore`, `Geneva`"
   ]
  },
  {
   "cell_type": "code",
   "execution_count": 20,
   "id": "c3eee98b",
   "metadata": {},
   "outputs": [],
   "source": [
    "# Insert your code below\n"
   ]
  },
  {
   "cell_type": "code",
   "execution_count": 2,
   "id": "30e258b0",
   "metadata": {},
   "outputs": [
    {
     "name": "stdout",
     "output_type": "stream",
     "text": [
      "True\n",
      "True\n"
     ]
    }
   ],
   "source": [
    "# Test your code\n",
    "print(type(cities) == list)\n",
    "print(len(cities) == 5)"
   ]
  },
  {
   "cell_type": "markdown",
   "id": "711890da",
   "metadata": {},
   "source": [
    "❓**Q13** - Can you access the third city in `cities`? Store your answer in a variable called `third_city`"
   ]
  },
  {
   "cell_type": "code",
   "execution_count": 19,
   "id": "e3bbf143",
   "metadata": {},
   "outputs": [],
   "source": [
    "# Insert your code below\n"
   ]
  },
  {
   "cell_type": "markdown",
   "id": "b8f9ea75",
   "metadata": {},
   "source": [
    "❓**Q14** - In the code below, replace `Toronto` and `Geneva` by their variable access and modify the code accordingly for it to work"
   ]
  },
  {
   "cell_type": "code",
   "execution_count": null,
   "id": "d001faf8",
   "metadata": {},
   "outputs": [],
   "source": [
    "# Modify code below\n",
    "\"I live in the Toronto area and have never lived in Geneva\""
   ]
  },
  {
   "cell_type": "markdown",
   "id": "d4a358a1",
   "metadata": {},
   "source": [
    "Below is the **ordered** list of distances (in km) from Toronto of each city stored in `cities`"
   ]
  },
  {
   "cell_type": "code",
   "execution_count": 4,
   "id": "53fb35b5",
   "metadata": {},
   "outputs": [],
   "source": [
    "distances = [0, 500, 780, 15000, 6400]"
   ]
  },
  {
   "cell_type": "markdown",
   "id": "b04fab36",
   "metadata": {},
   "source": [
    "For example:</br>\n",
    "0 km separate Toronto from Toronto</br>\n",
    "500 km separate Montreal from Toronto</br>\n",
    "15000 km separate Singapore from Toronto</br>\n",
    "..."
   ]
  },
  {
   "cell_type": "markdown",
   "id": "6d3d3e10",
   "metadata": {},
   "source": [
    "❓**Q15** - What is the type of data stored in `distances`? Store your answer in a variable named `distances_type` </br> If you're not sure how to check the type of a piece of data, **GOOGLE it** :)"
   ]
  },
  {
   "cell_type": "code",
   "execution_count": null,
   "id": "bdc1e582",
   "metadata": {},
   "outputs": [],
   "source": [
    "# Insert your code below\n"
   ]
  },
  {
   "cell_type": "code",
   "execution_count": null,
   "id": "f939a0c8",
   "metadata": {},
   "outputs": [],
   "source": [
    "# Test your code\n",
    "distances_type == int"
   ]
  },
  {
   "cell_type": "markdown",
   "id": "9ca72909",
   "metadata": {},
   "source": [
    "You have 2 trips planned for work, but you have to come back to Toronto in between. First stopping in Geneva, then Singapore, your flight plan looks like this:</br>\n",
    "**Toronto -> Geneva -> Toronto -> Singapore -> Toronto**"
   ]
  },
  {
   "cell_type": "markdown",
   "id": "6912c4cd",
   "metadata": {},
   "source": [
    "❓**Q16** - What is the total distance travelled? Store your answer in a variable named `total_distance_list`.</br> You should access the distances directly from the list `distances`."
   ]
  },
  {
   "cell_type": "code",
   "execution_count": null,
   "id": "0ee6ceb8",
   "metadata": {},
   "outputs": [],
   "source": [
    "# Insert your code below\n"
   ]
  },
  {
   "cell_type": "code",
   "execution_count": null,
   "id": "b54ec7bf",
   "metadata": {},
   "outputs": [],
   "source": [
    "# Test your code\n",
    "total_distance_list == 42800"
   ]
  },
  {
   "cell_type": "markdown",
   "id": "afaf0fc3",
   "metadata": {},
   "source": [
    "Let's add `Manila` to your trip. `Manila` is about 13000 km away from Toronto.</br>\n",
    "**Toronto -> Geneva -> Toronto -> Singapore -> Toronto -> Manilla**"
   ]
  },
  {
   "cell_type": "markdown",
   "id": "8e982767",
   "metadata": {},
   "source": [
    "❓**Q17** - What is the new total travel distance?</br>\n",
    "To answer this question, try to follow the sequence of steps below:\n",
    "1. Add `Manila` to `cities`\n",
    "2. Add `13000` to `distances`\n",
    "3. Update value of `total_distance_list` by adding the latest distance\n",
    "\n",
    "If you're unsure about how to add elements to a list, **GOOGLE it** :)"
   ]
  },
  {
   "cell_type": "code",
   "execution_count": 18,
   "id": "c717cb5d",
   "metadata": {},
   "outputs": [],
   "source": [
    "# Add Manila to your list of cities\n"
   ]
  },
  {
   "cell_type": "code",
   "execution_count": 17,
   "id": "3508cb88",
   "metadata": {},
   "outputs": [],
   "source": [
    "# Add 13000 to your list of distances\n"
   ]
  },
  {
   "cell_type": "code",
   "execution_count": 62,
   "id": "52657f0b",
   "metadata": {},
   "outputs": [],
   "source": [
    "# Update the value of total_distance_list\n"
   ]
  },
  {
   "cell_type": "code",
   "execution_count": 7,
   "id": "39302a39",
   "metadata": {},
   "outputs": [],
   "source": [
    "# Test your code\n",
    "total_distance_list == 55800"
   ]
  },
  {
   "cell_type": "markdown",
   "id": "d56ce62c",
   "metadata": {},
   "source": [
    "In class, we only talked about `list` as iterable data types. However, Python has a wide variety of other iterable data types.</br>In fact, Python is famous for its `dictionaries`, let's have a look at them."
   ]
  },
  {
   "cell_type": "markdown",
   "id": "33653ad8",
   "metadata": {},
   "source": [
    "Dictionaries, as their name suggests, work just like common language dictionaries.</br>They are sequences of `key` and `values`, below is how to create a dictionary:</br></br>\n",
    "`dictionary = {key: value}`"
   ]
  },
  {
   "cell_type": "code",
   "execution_count": 30,
   "id": "a990fd9e",
   "metadata": {},
   "outputs": [],
   "source": [
    "# Example\n",
    "my_dictionary = {'name': 'Julie', 'age': 29, 'country': 'Canada'}"
   ]
  },
  {
   "cell_type": "markdown",
   "id": "0dd855e9",
   "metadata": {},
   "source": [
    "`my_dictionary` contains 3 pairs of `key:value`:\n",
    "1. `name:Julie`\n",
    "2. `age:29`\n",
    "3. `country:Canada`"
   ]
  },
  {
   "cell_type": "code",
   "execution_count": 8,
   "id": "33c455ba",
   "metadata": {},
   "outputs": [],
   "source": [
    "# Run this cell to check the type of my_dictionary\n",
    "type(my_dictionary)"
   ]
  },
  {
   "cell_type": "markdown",
   "id": "3de5170f",
   "metadata": {},
   "source": [
    "I can access the value of a key using the syntax `name_of_dictionary[key]`"
   ]
  },
  {
   "cell_type": "code",
   "execution_count": 9,
   "id": "f6128ae3",
   "metadata": {},
   "outputs": [],
   "source": [
    "# Example\n",
    "f\"My name is {my_dictionary['name']} and I am {my_dictionary['age']} years old\""
   ]
  },
  {
   "cell_type": "markdown",
   "id": "3e7c4087",
   "metadata": {},
   "source": [
    "In our case of `cities` and `distances`, using a `dictionary` instead of two `lists` may come in very handy."
   ]
  },
  {
   "cell_type": "markdown",
   "id": "aa95da4d",
   "metadata": {},
   "source": [
    "❓**Q18** - Can you define a new variable `cities_and_distances` of type `dict` where the name of the cities are the `keys` and their associated value are the `distances`?"
   ]
  },
  {
   "cell_type": "code",
   "execution_count": 16,
   "id": "7c869ba5",
   "metadata": {},
   "outputs": [],
   "source": [
    "# Insert your code below\n"
   ]
  },
  {
   "cell_type": "code",
   "execution_count": 15,
   "id": "be3edff0",
   "metadata": {},
   "outputs": [
    {
     "name": "stdout",
     "output_type": "stream",
     "text": [
      "True\n",
      "True\n"
     ]
    }
   ],
   "source": [
    "# Test your code\n",
    "print(type(cities_and_distances) == dict)\n",
    "print(list(cities_and_distances.keys()) == cities)"
   ]
  },
  {
   "cell_type": "markdown",
   "id": "04f7ef3b",
   "metadata": {},
   "source": [
    "❓**Q19** - Now using your new dictionary, can you compute the total travel distance for the following trip (if needed, check again how to access the `value` of a `key` above):</br>\n",
    "**Toronto -> Geneva -> Toronto -> Singapore -> Toronto -> Manilla**</br>\n",
    "Store your answer in a new variable name `total_distance_dict`"
   ]
  },
  {
   "cell_type": "code",
   "execution_count": null,
   "id": "dfb80a1e",
   "metadata": {},
   "outputs": [],
   "source": [
    "# Insert your code below\n"
   ]
  },
  {
   "cell_type": "code",
   "execution_count": null,
   "id": "a87ebd54",
   "metadata": {},
   "outputs": [],
   "source": [
    "# Test your code\n",
    "total_distance_dict = total_distance_list"
   ]
  },
  {
   "cell_type": "markdown",
   "id": "ea3a2e95",
   "metadata": {},
   "source": [
    "## Loops"
   ]
  },
  {
   "cell_type": "markdown",
   "id": "0bba2de5",
   "metadata": {},
   "source": [
    "The point of iterable data types like `list` and `dict` is to gain memory space, organize your data, and be bale to perform actions on all or part of their elements, using **loops**."
   ]
  },
  {
   "cell_type": "markdown",
   "id": "33564162",
   "metadata": {},
   "source": [
    "### Loop over a `list`"
   ]
  },
  {
   "cell_type": "markdown",
   "id": "0322842d",
   "metadata": {},
   "source": [
    "Let's take our lists `cities` and `distances` back."
   ]
  },
  {
   "cell_type": "code",
   "execution_count": null,
   "id": "1e27dee8",
   "metadata": {},
   "outputs": [],
   "source": [
    "# Run this cell\n",
    "cities"
   ]
  },
  {
   "cell_type": "code",
   "execution_count": null,
   "id": "281e080d",
   "metadata": {},
   "outputs": [],
   "source": [
    "# Run this cell\n",
    "distances"
   ]
  },
  {
   "cell_type": "markdown",
   "id": "c60f4c96",
   "metadata": {},
   "source": [
    "❓**Q20** - Using a `for` loop, can you write a code that outputs the following:</br>\n",
    "```\n",
    "Toronto \n",
    "Montreal\n",
    "New York\n",
    "Singapore\n",
    "Geneva\n",
    "Manila\n",
    "```"
   ]
  },
  {
   "cell_type": "code",
   "execution_count": null,
   "id": "06b35c02",
   "metadata": {},
   "outputs": [],
   "source": [
    "# Insert your code below\n"
   ]
  },
  {
   "cell_type": "markdown",
   "id": "a71bf38c",
   "metadata": {},
   "source": [
    "❓**Q21** - Using a single `for` loop, can you write a code that outputs the following:</br>\n",
    "Each sentence starts with a `city` from the list `cities` and contains the associated `distance`\n",
    " from `distances`.\n",
    "```\n",
    "Toronto is 0 km away from Toronto\n",
    "Montreal is 500 km away from Toronto\n",
    "New York is 800 km away from Toronto\n",
    "Singapore is 15000 km away from Toronto\n",
    "Geneva is 6400 km away from Toronto\n",
    "Manila is 13000 km away from Toronto\n",
    "```\n",
    "\n",
    "**Hint**: Check out how to iterate over multiple lists simultaneously with the `zip()` function [here](https://www.geeksforgeeks.org/python-iterate-multiple-lists-simultaneously/)."
   ]
  },
  {
   "cell_type": "code",
   "execution_count": null,
   "id": "99185118",
   "metadata": {},
   "outputs": [],
   "source": [
    "# Insert your code below\n"
   ]
  },
  {
   "cell_type": "markdown",
   "id": "e853e77a",
   "metadata": {},
   "source": [
    "### Loop over a `dict`"
   ]
  },
  {
   "cell_type": "markdown",
   "id": "5fd912f4",
   "metadata": {},
   "source": [
    "Python comes with a bunch of tricks and methods that make manipulating dictionaries very easy and convenient.</br>\n",
    "The method `.items()` returns all the `(key,value)` pairs in a dictionary."
   ]
  },
  {
   "cell_type": "code",
   "execution_count": null,
   "id": "1e5f5b76",
   "metadata": {},
   "outputs": [],
   "source": [
    "# Let's take my_dictionary\n",
    "my_dictionary"
   ]
  },
  {
   "cell_type": "code",
   "execution_count": 10,
   "id": "da94f28f",
   "metadata": {},
   "outputs": [],
   "source": [
    "# And use .items() on it - run this cell\n",
    "my_dictionary.items()"
   ]
  },
  {
   "cell_type": "code",
   "execution_count": 11,
   "id": "21bb2155",
   "metadata": {},
   "outputs": [],
   "source": [
    "# We can use .items() to iterate over my_dictionary as follow - run this cell\n",
    "for key, value in my_dictionary.items():\n",
    "    print(key, value)"
   ]
  },
  {
   "cell_type": "markdown",
   "id": "1f97bdeb",
   "metadata": {},
   "source": [
    "The `for` loop above can be literally translated into:</br></br>\n",
    "`\"For each pair of (key, value) inside my dictionary, print (key,value)\"`"
   ]
  },
  {
   "cell_type": "markdown",
   "id": "23b2a5ec",
   "metadata": {},
   "source": [
    "Now let's go back to our dictionary `cities_and_distances`"
   ]
  },
  {
   "cell_type": "code",
   "execution_count": null,
   "id": "222ae2bb",
   "metadata": {},
   "outputs": [],
   "source": [
    "cities_and_distances"
   ]
  },
  {
   "cell_type": "markdown",
   "id": "93d879a2",
   "metadata": {},
   "source": [
    "❓**Q21** - Using a `for` loop and `.items()`, can you write a code that outputs the following:\n",
    "```\n",
    "Toronto is 0 km away from Toronto\n",
    "Montreal is 500 km away from Toronto\n",
    "New York is 800 km away from Toronto\n",
    "Singapore is 15000 km away from Toronto\n",
    "Geneva is 6400 km away from Toronto\n",
    "Manila is 13000 km away from Toronto\n",
    "```"
   ]
  },
  {
   "cell_type": "code",
   "execution_count": null,
   "id": "f0fa0ea3",
   "metadata": {},
   "outputs": [],
   "source": [
    "# Insert your code below\n"
   ]
  },
  {
   "cell_type": "markdown",
   "id": "44bf0776",
   "metadata": {},
   "source": [
    "## Control flow"
   ]
  },
  {
   "cell_type": "markdown",
   "id": "afa3404f",
   "metadata": {},
   "source": [
    "Let's say that I only want to print the name of the cities that are less than 1000 km away from Toronto."
   ]
  },
  {
   "cell_type": "markdown",
   "id": "cf20b736",
   "metadata": {},
   "source": [
    "❓**Q22** - Combining a `for` loop with an `if ... else` statement, can you write a code that outputs the following:</br>\n",
    "**Hint**: reuse your code above\n",
    "```\n",
    "Toronto is not far away from Toronto\n",
    "Montreal is not far away from Toronto\n",
    "New York is not far away from Toronto\n",
    "Singapore is very far away from Toronto\n",
    "Geneva is very far away from Toronto\n",
    "Manila is very far away from Toronto\n",
    "```"
   ]
  },
  {
   "cell_type": "code",
   "execution_count": null,
   "id": "4c926ca2",
   "metadata": {},
   "outputs": [],
   "source": [
    "# Insert your code below\n"
   ]
  },
  {
   "cell_type": "markdown",
   "id": "2eec9b09",
   "metadata": {},
   "source": [
    "## Make it a function!"
   ]
  },
  {
   "cell_type": "markdown",
   "id": "23904f35",
   "metadata": {},
   "source": [
    "Let's make your last piece of code a function so that you can reuse it with a single line of code.</br>\n",
    "The function does not take any argument for now and does not return anything."
   ]
  },
  {
   "cell_type": "markdown",
   "id": "bc8a4308",
   "metadata": {},
   "source": [
    "❓**Q23** - Based on your code above, define a new function that outputs the following:\n",
    "```\n",
    "Toronto is not far away from Toronto\n",
    "Montreal is not far away from Toronto\n",
    "New York is not far away from Toronto\n",
    "Singapore is very far away from Toronto\n",
    "Geneva is very far away from Toronto\n",
    "Manila is very far away from Toronto\n",
    "```"
   ]
  },
  {
   "cell_type": "code",
   "execution_count": null,
   "id": "2653e478",
   "metadata": {},
   "outputs": [],
   "source": [
    "# Insert your code below\n"
   ]
  },
  {
   "cell_type": "code",
   "execution_count": null,
   "id": "f5031134",
   "metadata": {},
   "outputs": [],
   "source": [
    "# Now test your function here (call it by it's name)\n"
   ]
  },
  {
   "cell_type": "markdown",
   "id": "bf4c5355",
   "metadata": {},
   "source": [
    "Great job it's working! But our function is not very flexible yet because it doesn't take any argument.</br>\n",
    "If I try to use my function on a new dictionary, nothing will change... Try it below and see for yourself."
   ]
  },
  {
   "cell_type": "code",
   "execution_count": 79,
   "id": "df0bcc77",
   "metadata": {},
   "outputs": [],
   "source": [
    "# Run this cell to create a new dictionary\n",
    "other_cities_and_distances = {'Toronto': 0,\n",
    "                              'Vancouver': 3400,\n",
    "                              'Chicago': 700,\n",
    "                              'Buenos Aires': 8900}"
   ]
  },
  {
   "cell_type": "code",
   "execution_count": null,
   "id": "74c1f11f",
   "metadata": {},
   "outputs": [],
   "source": [
    "# Let's try your function again, see how the output is still the same as above\n"
   ]
  },
  {
   "cell_type": "markdown",
   "id": "bf4e0170",
   "metadata": {},
   "source": [
    "❓**Q24** - Can you change you function so that it works for all `city:distance` dictionary?\n",
    "</br>**Hint**: try adding an argument"
   ]
  },
  {
   "cell_type": "code",
   "execution_count": null,
   "id": "38d87efe",
   "metadata": {},
   "outputs": [],
   "source": [
    "# Insert your code below\n"
   ]
  },
  {
   "cell_type": "code",
   "execution_count": null,
   "id": "bdab5674",
   "metadata": {},
   "outputs": [],
   "source": [
    "# Now try your function one more time, has the output changed?\n"
   ]
  },
  {
   "cell_type": "markdown",
   "id": "d362823f",
   "metadata": {},
   "source": [
    "# 🎉 Congratulations on finishing your first notebook 🎉"
   ]
  }
 ],
 "metadata": {
  "kernelspec": {
   "display_name": "Python 3 (ipykernel)",
   "language": "python",
   "name": "python3"
  },
  "language_info": {
   "codemirror_mode": {
    "name": "ipython",
    "version": 3
   },
   "file_extension": ".py",
   "mimetype": "text/x-python",
   "name": "python",
   "nbconvert_exporter": "python",
   "pygments_lexer": "ipython3",
   "version": "3.9.2"
  },
  "toc": {
   "base_numbering": 1,
   "nav_menu": {},
   "number_sections": true,
   "sideBar": true,
   "skip_h1_title": false,
   "title_cell": "Table of Contents",
   "title_sidebar": "Contents",
   "toc_cell": false,
   "toc_position": {},
   "toc_section_display": true,
   "toc_window_display": false
  },
  "varInspector": {
   "cols": {
    "lenName": 16,
    "lenType": 16,
    "lenVar": 40
   },
   "kernels_config": {
    "python": {
     "delete_cmd_postfix": "",
     "delete_cmd_prefix": "del ",
     "library": "var_list.py",
     "varRefreshCmd": "print(var_dic_list())"
    },
    "r": {
     "delete_cmd_postfix": ") ",
     "delete_cmd_prefix": "rm(",
     "library": "var_list.r",
     "varRefreshCmd": "cat(var_dic_list()) "
    }
   },
   "types_to_exclude": [
    "module",
    "function",
    "builtin_function_or_method",
    "instance",
    "_Feature"
   ],
   "window_display": false
  }
 },
 "nbformat": 4,
 "nbformat_minor": 5
}
