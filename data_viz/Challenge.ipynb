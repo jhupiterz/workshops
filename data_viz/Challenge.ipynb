{
 "cells": [
  {
   "cell_type": "markdown",
   "id": "cb9b7dc2",
   "metadata": {},
   "source": [
    "# Jupyter Notebook"
   ]
  },
  {
   "cell_type": "markdown",
   "id": "887fd441",
   "metadata": {},
   "source": [
    "Notebooks are workspaces where you can write and execute code, write some notes, insert images, videos etc. Super useful tools for data analysts to document their analysis process."
   ]
  },
  {
   "cell_type": "markdown",
   "id": "137d9169",
   "metadata": {
    "heading_collapsed": true
   },
   "source": [
    "# 🐍 Python reminder"
   ]
  },
  {
   "cell_type": "markdown",
   "id": "96367baa",
   "metadata": {
    "hidden": true
   },
   "source": [
    "## Data types"
   ]
  },
  {
   "cell_type": "markdown",
   "id": "c43686fb",
   "metadata": {
    "heading_collapsed": true,
    "hidden": true
   },
   "source": [
    "### Numeric data"
   ]
  },
  {
   "cell_type": "code",
   "execution_count": 1,
   "id": "32437760",
   "metadata": {
    "hidden": true
   },
   "outputs": [
    {
     "data": {
      "text/plain": [
       "45"
      ]
     },
     "execution_count": 1,
     "metadata": {},
     "output_type": "execute_result"
    }
   ],
   "source": [
    "# WHOLE NUMBERS AKA INTEGERS\n",
    "45"
   ]
  },
  {
   "cell_type": "code",
   "execution_count": 2,
   "id": "e23f3303",
   "metadata": {
    "hidden": true
   },
   "outputs": [
    {
     "data": {
      "text/plain": [
       "int"
      ]
     },
     "execution_count": 2,
     "metadata": {},
     "output_type": "execute_result"
    }
   ],
   "source": [
    "# Can check type of data \n",
    "type(45)"
   ]
  },
  {
   "cell_type": "code",
   "execution_count": 3,
   "id": "1db88fb9",
   "metadata": {
    "hidden": true
   },
   "outputs": [
    {
     "data": {
      "text/plain": [
       "3.14"
      ]
     },
     "execution_count": 3,
     "metadata": {},
     "output_type": "execute_result"
    }
   ],
   "source": [
    "# DECIMALS AKA FLOATS\n",
    "3.14"
   ]
  },
  {
   "cell_type": "code",
   "execution_count": 4,
   "id": "ed26a1e2",
   "metadata": {
    "hidden": true
   },
   "outputs": [
    {
     "data": {
      "text/plain": [
       "float"
      ]
     },
     "execution_count": 4,
     "metadata": {},
     "output_type": "execute_result"
    }
   ],
   "source": [
    "type(3.14)"
   ]
  },
  {
   "cell_type": "markdown",
   "id": "4ba8fbd3",
   "metadata": {
    "heading_collapsed": true,
    "hidden": true
   },
   "source": [
    "### Text"
   ]
  },
  {
   "cell_type": "code",
   "execution_count": 5,
   "id": "0678bd97",
   "metadata": {
    "hidden": true
   },
   "outputs": [
    {
     "data": {
      "text/plain": [
       "\"I'm a geologist\""
      ]
     },
     "execution_count": 5,
     "metadata": {},
     "output_type": "execute_result"
    }
   ],
   "source": [
    "# TEXT AKA STRING\n",
    "\"I'm a scientist\""
   ]
  },
  {
   "cell_type": "code",
   "execution_count": 6,
   "id": "585e5fae",
   "metadata": {
    "hidden": true
   },
   "outputs": [
    {
     "data": {
      "text/plain": [
       "str"
      ]
     },
     "execution_count": 6,
     "metadata": {},
     "output_type": "execute_result"
    }
   ],
   "source": [
    "type(\"I'm a scientist\")"
   ]
  },
  {
   "cell_type": "markdown",
   "id": "c33f2945",
   "metadata": {
    "heading_collapsed": true,
    "hidden": true
   },
   "source": [
    "### Booleans"
   ]
  },
  {
   "cell_type": "code",
   "execution_count": 7,
   "id": "e8f12a82",
   "metadata": {
    "hidden": true
   },
   "outputs": [
    {
     "data": {
      "text/plain": [
       "True"
      ]
     },
     "execution_count": 7,
     "metadata": {},
     "output_type": "execute_result"
    }
   ],
   "source": [
    "# BINARY TRUE OR FALSE DATA AKA BOOLEANS\n",
    "1 == 1"
   ]
  },
  {
   "cell_type": "code",
   "execution_count": 8,
   "id": "92522c83",
   "metadata": {
    "hidden": true
   },
   "outputs": [
    {
     "data": {
      "text/plain": [
       "bool"
      ]
     },
     "execution_count": 8,
     "metadata": {},
     "output_type": "execute_result"
    }
   ],
   "source": [
    "type(1 == 1)"
   ]
  },
  {
   "cell_type": "markdown",
   "id": "ea3a2e95",
   "metadata": {
    "heading_collapsed": true,
    "hidden": true
   },
   "source": [
    "## Variables"
   ]
  },
  {
   "cell_type": "markdown",
   "id": "3242547e",
   "metadata": {
    "hidden": true
   },
   "source": [
    "To store data in memory, we use variables."
   ]
  },
  {
   "cell_type": "code",
   "execution_count": 12,
   "id": "1028d0be",
   "metadata": {
    "hidden": true
   },
   "outputs": [],
   "source": [
    "# You can see variables as labeled boxes in memory\n",
    "box_name = \"content of my box\""
   ]
  },
  {
   "cell_type": "code",
   "execution_count": 13,
   "id": "882a5322",
   "metadata": {
    "hidden": true
   },
   "outputs": [
    {
     "data": {
      "text/plain": [
       "'content of my box'"
      ]
     },
     "execution_count": 13,
     "metadata": {},
     "output_type": "execute_result"
    }
   ],
   "source": [
    "# Reuse a variable by calling it by its name\n",
    "box_name"
   ]
  },
  {
   "cell_type": "code",
   "execution_count": 14,
   "id": "ef3d256d",
   "metadata": {
    "hidden": true
   },
   "outputs": [
    {
     "data": {
      "text/plain": [
       "str"
      ]
     },
     "execution_count": 14,
     "metadata": {},
     "output_type": "execute_result"
    }
   ],
   "source": [
    "# Check type of data inside variable\n",
    "type(box_name)"
   ]
  },
  {
   "cell_type": "code",
   "execution_count": 15,
   "id": "841df76f",
   "metadata": {
    "hidden": true
   },
   "outputs": [],
   "source": [
    "# Change the content of your variable/box \n",
    "box_name = 356.78"
   ]
  },
  {
   "cell_type": "code",
   "execution_count": 16,
   "id": "93ad65f2",
   "metadata": {
    "hidden": true
   },
   "outputs": [
    {
     "name": "stdout",
     "output_type": "stream",
     "text": [
      "356.78\n"
     ]
    },
    {
     "data": {
      "text/plain": [
       "float"
      ]
     },
     "execution_count": 16,
     "metadata": {},
     "output_type": "execute_result"
    }
   ],
   "source": [
    "# The content and type of data has changed\n",
    "print(box_name)\n",
    "type(box_name)"
   ]
  },
  {
   "cell_type": "markdown",
   "id": "0070a3fe",
   "metadata": {
    "hidden": true
   },
   "source": [
    "You can store anything in a variable, from basic data types like strings, floats, integers, and booleans, to n-dimensional tables and trained fancy machine-learning models."
   ]
  },
  {
   "cell_type": "markdown",
   "id": "2acf7428",
   "metadata": {
    "heading_collapsed": true,
    "hidden": true
   },
   "source": [
    "## Methods & libraries"
   ]
  },
  {
   "cell_type": "markdown",
   "id": "7c4191d2",
   "metadata": {
    "hidden": true
   },
   "source": [
    "Python is so powerful because of its open-source community that everyday develops new \"methods\" for people like you and me to use and save hours of our time. Methods simply are bits of code that have been written by someone else and published online for others to install and reuse. There are methods for (almost) EVERYTHING! "
   ]
  },
  {
   "cell_type": "markdown",
   "id": "5edd715d",
   "metadata": {
    "hidden": true
   },
   "source": [
    "A method is applied on a variable using the following syntax `name_of_variable.method()`"
   ]
  },
  {
   "cell_type": "code",
   "execution_count": 1,
   "id": "ff7bd97d",
   "metadata": {
    "hidden": true
   },
   "outputs": [
    {
     "data": {
      "text/plain": [
       "'JULIE'"
      ]
     },
     "execution_count": 1,
     "metadata": {},
     "output_type": "execute_result"
    }
   ],
   "source": [
    "# Example\n",
    "\"Julie\".upper()"
   ]
  },
  {
   "cell_type": "markdown",
   "id": "d2ba246c",
   "metadata": {
    "hidden": true
   },
   "source": [
    "Some methods require parameters:"
   ]
  },
  {
   "cell_type": "code",
   "execution_count": 4,
   "id": "130609ee",
   "metadata": {
    "hidden": true
   },
   "outputs": [
    {
     "data": {
      "text/plain": [
       "True"
      ]
     },
     "execution_count": 4,
     "metadata": {},
     "output_type": "execute_result"
    }
   ],
   "source": [
    "# Example: \"J\" here is a parameter passed to .startswith()\n",
    "\"Julie\".startswith(\"J\")"
   ]
  },
  {
   "cell_type": "markdown",
   "id": "addd491e",
   "metadata": {
    "hidden": true
   },
   "source": [
    "Methods are often part of **libraries** that need to be imported in our workspace.</br>\n",
    "You can see **libraries** as tool boxes containing a bunch of **tools**, aka **methods**."
   ]
  },
  {
   "cell_type": "code",
   "execution_count": null,
   "id": "04477a49",
   "metadata": {
    "hidden": true
   },
   "outputs": [],
   "source": [
    "# Snytax for importing the entire library\n",
    "import library_name"
   ]
  },
  {
   "cell_type": "code",
   "execution_count": null,
   "id": "dc45d02e",
   "metadata": {
    "hidden": true
   },
   "outputs": [],
   "source": [
    "# Syntax for importing a specific method from a library\n",
    "from library import method_name"
   ]
  },
  {
   "cell_type": "markdown",
   "id": "ff2bbbfc",
   "metadata": {},
   "source": [
    "# 📊 Data visualization"
   ]
  },
  {
   "cell_type": "markdown",
   "id": "1d33e560",
   "metadata": {},
   "source": [
    "## Library imports"
   ]
  },
  {
   "cell_type": "markdown",
   "id": "d7bfeb4d",
   "metadata": {},
   "source": [
    "❓ Start by importing the `pandas` and `plotly.express` libraries. You can give them nicknames, typically `pd` for pandas and `px` for plotly express."
   ]
  },
  {
   "cell_type": "code",
   "execution_count": 9,
   "id": "f7cffdc4",
   "metadata": {},
   "outputs": [],
   "source": [
    "# Insert your code below\n"
   ]
  },
  {
   "cell_type": "markdown",
   "id": "fdee64eb",
   "metadata": {},
   "source": [
    "## Data import"
   ]
  },
  {
   "cell_type": "markdown",
   "id": "921c8fa9",
   "metadata": {},
   "source": [
    "The CSV file that you'll work on today is located in the `data` folder and named `exoplanets.csv`.</br>\n",
    "❓Create a variable `file_path` that contains the path to the dataset as a string."
   ]
  },
  {
   "cell_type": "code",
   "execution_count": 10,
   "id": "c3c26a61",
   "metadata": {},
   "outputs": [],
   "source": [
    "# Insert your code below\n"
   ]
  },
  {
   "cell_type": "markdown",
   "id": "a7f56e7b",
   "metadata": {},
   "source": [
    "❓ Now using the pandas method we saw in class, import your dataset inside the notebook (i.e. \"read\" your dataset using pandas).</br>\n",
    "If you don't recall which method to use, check the cheat sheet or google it!"
   ]
  },
  {
   "cell_type": "code",
   "execution_count": 8,
   "id": "21ea3ffb",
   "metadata": {},
   "outputs": [],
   "source": [
    "# Insert your code below\n"
   ]
  },
  {
   "cell_type": "markdown",
   "id": "08176647",
   "metadata": {},
   "source": [
    "❓ Store your dataframe inside a variable called `exoplanet_df`."
   ]
  },
  {
   "cell_type": "code",
   "execution_count": 7,
   "id": "d94ae224",
   "metadata": {},
   "outputs": [],
   "source": [
    "# Insert your code below\n"
   ]
  },
  {
   "cell_type": "code",
   "execution_count": 8,
   "id": "ad32e6cb",
   "metadata": {},
   "outputs": [
    {
     "name": "stdout",
     "output_type": "stream",
     "text": [
      "True\n",
      "True\n"
     ]
    }
   ],
   "source": [
    "# Test your code\n",
    "print(type(exoplanet_df) == pd.DataFrame)\n",
    "print(exoplanet_df.shape == (5250, 13))"
   ]
  },
  {
   "cell_type": "markdown",
   "id": "788fa2ec",
   "metadata": {},
   "source": [
    "Display your dataframe and take a few minutes to get familiar with it.</br>\n",
    "Each row represents a different exoplanet, whereas each column represents a characteristic of exoplanets like their names, distance from Earth in light-years, how it was detected etc... "
   ]
  },
  {
   "cell_type": "code",
   "execution_count": 9,
   "id": "56a9bfbd",
   "metadata": {},
   "outputs": [
    {
     "data": {
      "text/html": [
       "<div>\n",
       "<style scoped>\n",
       "    .dataframe tbody tr th:only-of-type {\n",
       "        vertical-align: middle;\n",
       "    }\n",
       "\n",
       "    .dataframe tbody tr th {\n",
       "        vertical-align: top;\n",
       "    }\n",
       "\n",
       "    .dataframe thead th {\n",
       "        text-align: right;\n",
       "    }\n",
       "</style>\n",
       "<table border=\"1\" class=\"dataframe\">\n",
       "  <thead>\n",
       "    <tr style=\"text-align: right;\">\n",
       "      <th></th>\n",
       "      <th>name</th>\n",
       "      <th>distance</th>\n",
       "      <th>stellar_magnitude</th>\n",
       "      <th>planet_type</th>\n",
       "      <th>discovery_year</th>\n",
       "      <th>mass_multiplier</th>\n",
       "      <th>mass_wrt</th>\n",
       "      <th>radius_multiplier</th>\n",
       "      <th>radius_wrt</th>\n",
       "      <th>orbital_radius</th>\n",
       "      <th>orbital_period</th>\n",
       "      <th>eccentricity</th>\n",
       "      <th>detection_method</th>\n",
       "    </tr>\n",
       "  </thead>\n",
       "  <tbody>\n",
       "    <tr>\n",
       "      <th>0</th>\n",
       "      <td>11 Comae Berenices b</td>\n",
       "      <td>304.0</td>\n",
       "      <td>4.72307</td>\n",
       "      <td>Gas Giant</td>\n",
       "      <td>2007</td>\n",
       "      <td>19.40000</td>\n",
       "      <td>Jupiter</td>\n",
       "      <td>1.080</td>\n",
       "      <td>Jupiter</td>\n",
       "      <td>1.290000</td>\n",
       "      <td>0.892539</td>\n",
       "      <td>0.23</td>\n",
       "      <td>Radial Velocity</td>\n",
       "    </tr>\n",
       "    <tr>\n",
       "      <th>1</th>\n",
       "      <td>11 Ursae Minoris b</td>\n",
       "      <td>409.0</td>\n",
       "      <td>5.01300</td>\n",
       "      <td>Gas Giant</td>\n",
       "      <td>2009</td>\n",
       "      <td>14.74000</td>\n",
       "      <td>Jupiter</td>\n",
       "      <td>1.090</td>\n",
       "      <td>Jupiter</td>\n",
       "      <td>1.530000</td>\n",
       "      <td>1.400000</td>\n",
       "      <td>0.08</td>\n",
       "      <td>Radial Velocity</td>\n",
       "    </tr>\n",
       "    <tr>\n",
       "      <th>2</th>\n",
       "      <td>14 Andromedae b</td>\n",
       "      <td>246.0</td>\n",
       "      <td>5.23133</td>\n",
       "      <td>Gas Giant</td>\n",
       "      <td>2008</td>\n",
       "      <td>4.80000</td>\n",
       "      <td>Jupiter</td>\n",
       "      <td>1.150</td>\n",
       "      <td>Jupiter</td>\n",
       "      <td>0.830000</td>\n",
       "      <td>0.508693</td>\n",
       "      <td>0.00</td>\n",
       "      <td>Radial Velocity</td>\n",
       "    </tr>\n",
       "    <tr>\n",
       "      <th>3</th>\n",
       "      <td>14 Herculis b</td>\n",
       "      <td>58.0</td>\n",
       "      <td>6.61935</td>\n",
       "      <td>Gas Giant</td>\n",
       "      <td>2002</td>\n",
       "      <td>8.13881</td>\n",
       "      <td>Jupiter</td>\n",
       "      <td>1.120</td>\n",
       "      <td>Jupiter</td>\n",
       "      <td>2.773069</td>\n",
       "      <td>4.800000</td>\n",
       "      <td>0.37</td>\n",
       "      <td>Radial Velocity</td>\n",
       "    </tr>\n",
       "    <tr>\n",
       "      <th>4</th>\n",
       "      <td>16 Cygni B b</td>\n",
       "      <td>69.0</td>\n",
       "      <td>6.21500</td>\n",
       "      <td>Gas Giant</td>\n",
       "      <td>1996</td>\n",
       "      <td>1.78000</td>\n",
       "      <td>Jupiter</td>\n",
       "      <td>1.200</td>\n",
       "      <td>Jupiter</td>\n",
       "      <td>1.660000</td>\n",
       "      <td>2.200000</td>\n",
       "      <td>0.68</td>\n",
       "      <td>Radial Velocity</td>\n",
       "    </tr>\n",
       "    <tr>\n",
       "      <th>...</th>\n",
       "      <td>...</td>\n",
       "      <td>...</td>\n",
       "      <td>...</td>\n",
       "      <td>...</td>\n",
       "      <td>...</td>\n",
       "      <td>...</td>\n",
       "      <td>...</td>\n",
       "      <td>...</td>\n",
       "      <td>...</td>\n",
       "      <td>...</td>\n",
       "      <td>...</td>\n",
       "      <td>...</td>\n",
       "      <td>...</td>\n",
       "    </tr>\n",
       "    <tr>\n",
       "      <th>5245</th>\n",
       "      <td>XO-7 b</td>\n",
       "      <td>764.0</td>\n",
       "      <td>10.52100</td>\n",
       "      <td>Gas Giant</td>\n",
       "      <td>2019</td>\n",
       "      <td>0.70900</td>\n",
       "      <td>Jupiter</td>\n",
       "      <td>1.373</td>\n",
       "      <td>Jupiter</td>\n",
       "      <td>0.044210</td>\n",
       "      <td>0.007940</td>\n",
       "      <td>0.04</td>\n",
       "      <td>Transit</td>\n",
       "    </tr>\n",
       "    <tr>\n",
       "      <th>5246</th>\n",
       "      <td>YSES 2 b</td>\n",
       "      <td>357.0</td>\n",
       "      <td>10.88500</td>\n",
       "      <td>Gas Giant</td>\n",
       "      <td>2021</td>\n",
       "      <td>6.30000</td>\n",
       "      <td>Jupiter</td>\n",
       "      <td>1.140</td>\n",
       "      <td>Jupiter</td>\n",
       "      <td>115.000000</td>\n",
       "      <td>1176.500000</td>\n",
       "      <td>0.00</td>\n",
       "      <td>Direct Imaging</td>\n",
       "    </tr>\n",
       "    <tr>\n",
       "      <th>5247</th>\n",
       "      <td>YZ Ceti b</td>\n",
       "      <td>12.0</td>\n",
       "      <td>12.07400</td>\n",
       "      <td>Terrestrial</td>\n",
       "      <td>2017</td>\n",
       "      <td>0.70000</td>\n",
       "      <td>Earth</td>\n",
       "      <td>0.913</td>\n",
       "      <td>Earth</td>\n",
       "      <td>0.016340</td>\n",
       "      <td>0.005476</td>\n",
       "      <td>0.06</td>\n",
       "      <td>Radial Velocity</td>\n",
       "    </tr>\n",
       "    <tr>\n",
       "      <th>5248</th>\n",
       "      <td>YZ Ceti c</td>\n",
       "      <td>12.0</td>\n",
       "      <td>12.07400</td>\n",
       "      <td>Super Earth</td>\n",
       "      <td>2017</td>\n",
       "      <td>1.14000</td>\n",
       "      <td>Earth</td>\n",
       "      <td>1.050</td>\n",
       "      <td>Earth</td>\n",
       "      <td>0.021560</td>\n",
       "      <td>0.008487</td>\n",
       "      <td>0.00</td>\n",
       "      <td>Radial Velocity</td>\n",
       "    </tr>\n",
       "    <tr>\n",
       "      <th>5249</th>\n",
       "      <td>YZ Ceti d</td>\n",
       "      <td>12.0</td>\n",
       "      <td>12.07400</td>\n",
       "      <td>Super Earth</td>\n",
       "      <td>2017</td>\n",
       "      <td>1.09000</td>\n",
       "      <td>Earth</td>\n",
       "      <td>1.030</td>\n",
       "      <td>Earth</td>\n",
       "      <td>0.028510</td>\n",
       "      <td>0.012868</td>\n",
       "      <td>0.07</td>\n",
       "      <td>Radial Velocity</td>\n",
       "    </tr>\n",
       "  </tbody>\n",
       "</table>\n",
       "<p>5250 rows × 13 columns</p>\n",
       "</div>"
      ],
      "text/plain": [
       "                      name  distance  stellar_magnitude  planet_type  \\\n",
       "0     11 Comae Berenices b     304.0            4.72307    Gas Giant   \n",
       "1       11 Ursae Minoris b     409.0            5.01300    Gas Giant   \n",
       "2          14 Andromedae b     246.0            5.23133    Gas Giant   \n",
       "3            14 Herculis b      58.0            6.61935    Gas Giant   \n",
       "4             16 Cygni B b      69.0            6.21500    Gas Giant   \n",
       "...                    ...       ...                ...          ...   \n",
       "5245                XO-7 b     764.0           10.52100    Gas Giant   \n",
       "5246              YSES 2 b     357.0           10.88500    Gas Giant   \n",
       "5247             YZ Ceti b      12.0           12.07400  Terrestrial   \n",
       "5248             YZ Ceti c      12.0           12.07400  Super Earth   \n",
       "5249             YZ Ceti d      12.0           12.07400  Super Earth   \n",
       "\n",
       "      discovery_year  mass_multiplier mass_wrt  radius_multiplier radius_wrt  \\\n",
       "0               2007         19.40000  Jupiter              1.080    Jupiter   \n",
       "1               2009         14.74000  Jupiter              1.090    Jupiter   \n",
       "2               2008          4.80000  Jupiter              1.150    Jupiter   \n",
       "3               2002          8.13881  Jupiter              1.120    Jupiter   \n",
       "4               1996          1.78000  Jupiter              1.200    Jupiter   \n",
       "...              ...              ...      ...                ...        ...   \n",
       "5245            2019          0.70900  Jupiter              1.373    Jupiter   \n",
       "5246            2021          6.30000  Jupiter              1.140    Jupiter   \n",
       "5247            2017          0.70000    Earth              0.913      Earth   \n",
       "5248            2017          1.14000    Earth              1.050      Earth   \n",
       "5249            2017          1.09000    Earth              1.030      Earth   \n",
       "\n",
       "      orbital_radius  orbital_period  eccentricity detection_method  \n",
       "0           1.290000        0.892539          0.23  Radial Velocity  \n",
       "1           1.530000        1.400000          0.08  Radial Velocity  \n",
       "2           0.830000        0.508693          0.00  Radial Velocity  \n",
       "3           2.773069        4.800000          0.37  Radial Velocity  \n",
       "4           1.660000        2.200000          0.68  Radial Velocity  \n",
       "...              ...             ...           ...              ...  \n",
       "5245        0.044210        0.007940          0.04          Transit  \n",
       "5246      115.000000     1176.500000          0.00   Direct Imaging  \n",
       "5247        0.016340        0.005476          0.06  Radial Velocity  \n",
       "5248        0.021560        0.008487          0.00  Radial Velocity  \n",
       "5249        0.028510        0.012868          0.07  Radial Velocity  \n",
       "\n",
       "[5250 rows x 13 columns]"
      ]
     },
     "execution_count": 9,
     "metadata": {},
     "output_type": "execute_result"
    }
   ],
   "source": [
    "# Run this cell\n",
    "exoplanet_df"
   ]
  },
  {
   "cell_type": "markdown",
   "id": "6e6e6e23",
   "metadata": {},
   "source": [
    "## Explore & visualize your data"
   ]
  },
  {
   "cell_type": "markdown",
   "id": "13bb5e38",
   "metadata": {},
   "source": [
    "❓ How many exoplanets are there in the dataset? Store your answer in a variable called `n_exoplanets`."
   ]
  },
  {
   "cell_type": "code",
   "execution_count": 8,
   "id": "4fb2782e",
   "metadata": {},
   "outputs": [],
   "source": [
    "# Insert your code below\n"
   ]
  },
  {
   "cell_type": "code",
   "execution_count": 11,
   "id": "8da51689",
   "metadata": {},
   "outputs": [
    {
     "data": {
      "text/plain": [
       "True"
      ]
     },
     "execution_count": 11,
     "metadata": {},
     "output_type": "execute_result"
    }
   ],
   "source": [
    "# Test your code\n",
    "n_exoplanets == len(exoplanet_df)"
   ]
  },
  {
   "cell_type": "markdown",
   "id": "a1ecd46d",
   "metadata": {},
   "source": [
    "❓ How many exoplanets of each type have been detected so far?</br>\n",
    "**Hint:** 2 out of the 3 methods seen in class can work, although 1 is more straightforward"
   ]
  },
  {
   "cell_type": "code",
   "execution_count": 9,
   "id": "5423c5bf",
   "metadata": {},
   "outputs": [],
   "source": [
    "# Insert your code below\n"
   ]
  },
  {
   "cell_type": "markdown",
   "id": "41874c2f",
   "metadata": {},
   "source": [
    "❓ You can divide your answer above by the total number of exoplanets detected stored in `n_exoplanets` to get the ratio of each planet type. Try it yourself:"
   ]
  },
  {
   "cell_type": "code",
   "execution_count": 10,
   "id": "f88b3b50",
   "metadata": {},
   "outputs": [],
   "source": [
    "# Insert your code below\n"
   ]
  },
  {
   "cell_type": "markdown",
   "id": "1dbeb184",
   "metadata": {},
   "source": [
    "❓ Now multiply your answer above by 100 to make it a percentage. You can now a better idea of which planet types are most commonly detected relative to others."
   ]
  },
  {
   "cell_type": "code",
   "execution_count": 11,
   "id": "a8a4f178",
   "metadata": {},
   "outputs": [],
   "source": [
    "# Insert your code below\n"
   ]
  },
  {
   "cell_type": "markdown",
   "id": "45b3fc74",
   "metadata": {},
   "source": [
    "As you can see, **terrestrial** planets only account for 3.7% of all detections. This is because they are very small and have a dim light that astronomical instruments can't easily detect."
   ]
  },
  {
   "cell_type": "markdown",
   "id": "ab766ac4",
   "metadata": {},
   "source": [
    "We can also get those numbers with a single line of code using a pie chart. Check the [documentation](https://plotly.com/python-api-reference/generated/plotly.express.pie) if needed.</br>\n",
    "❓ Using the `.pie` method, you'll need to give at least two parameters, the dataframe to use as `data_frame`, and the column to use as `names`.</br> Complete the code below to display the pie chart:"
   ]
  },
  {
   "cell_type": "code",
   "execution_count": 12,
   "id": "a85cab67",
   "metadata": {},
   "outputs": [],
   "source": [
    "# Complete the code below\n",
    "px.pie(data_frame = ???, names = ???)"
   ]
  },
  {
   "cell_type": "markdown",
   "id": "4634502a",
   "metadata": {},
   "source": [
    "❓ Let's store your graph inside a variable called `planet_type_pie`.</br>\n",
    "This will allow you to use the `.update_layout()` method to customize your chart."
   ]
  },
  {
   "cell_type": "code",
   "execution_count": 13,
   "id": "743795d4",
   "metadata": {},
   "outputs": [],
   "source": [
    "# Run the code below\n",
    "planet_type_pie = px.pie(data_frame = exoplanet_df, names = \"planet_type\")\n",
    "planet_type_pie.update_layout(width  = 600,\n",
    "                              height = 600,\n",
    "                              title_text = \"Types of exoplanets discovered since 1992\",\n",
    "                              title_x = 0.5)"
   ]
  },
  {
   "cell_type": "markdown",
   "id": "b9f57947",
   "metadata": {},
   "source": [
    "❓ Plotly offers a great variety of customizations, check out the [documentation](https://plotly.com/python/reference/layout/) of `.update_layout()` to play around with some parameters and modify the pie chart to your preferences."
   ]
  },
  {
   "cell_type": "code",
   "execution_count": 14,
   "id": "625cc029",
   "metadata": {},
   "outputs": [],
   "source": [
    "# Insert your code below\n"
   ]
  },
  {
   "cell_type": "markdown",
   "id": "ec3a7fa5",
   "metadata": {},
   "source": [
    "Let's now investigate the evolution of detections through time.</br>\n",
    "❓ Is there any relationship between the **year of discovery** and the **distance** of exoplanets from Earth?</br>\n",
    "Try answering this question using a [scatter plot](https://plotly.com/python-api-reference/generated/plotly.express.scatter.html?highlight=plotly%20express%20scatter)."
   ]
  },
  {
   "cell_type": "code",
   "execution_count": 14,
   "id": "aba2878b",
   "metadata": {
    "scrolled": false
   },
   "outputs": [],
   "source": [
    "# Insert your code below\n"
   ]
  },
  {
   "cell_type": "markdown",
   "id": "de19147b",
   "metadata": {},
   "source": [
    "Plotly's `scatterplot` allows you to add a **color** dimension to your plot using the parameter `color`.</br>\n",
    "❓ Using your answer above and the `color` argument, can you tell if there is a relationship between the **year of discovery**, the **distance** of exoplanets from Earth, and the **type of exoplanet**? Check out the [documentation](https://plotly.com/python/line-and-scatter/) if necessary."
   ]
  },
  {
   "cell_type": "code",
   "execution_count": 15,
   "id": "11176f5c",
   "metadata": {},
   "outputs": [],
   "source": [
    "# Insert your code below\n"
   ]
  },
  {
   "cell_type": "markdown",
   "id": "c099e1fc",
   "metadata": {},
   "source": [
    "❓ Now take a couple of minutes to reflect on your scatterplot, does it tell you anything valuable about exoplanet discoveries?</br>Data visualization is not only about creating nice plots but most importantly it is about interpreting and communicating the valuable information they display."
   ]
  },
  {
   "cell_type": "markdown",
   "id": "b03a9986",
   "metadata": {},
   "source": [
    "**Answer:** You should notice that from 1992 until 2003, the few exoplanets that were discovered were less than 2000 light-years away from Earth. Then in 2004, astronomers were able to detect more planets up to 18k light-years away. Now, they consistently detect hundreds of exoplanets that are more than 20k light-years away."
   ]
  },
  {
   "cell_type": "markdown",
   "id": "4ac40941",
   "metadata": {},
   "source": [
    "❓ Nice plot but it can definitely be improved. Use your answer to Q to add a main title to your scatterplot and make other changes to your preferences."
   ]
  },
  {
   "cell_type": "code",
   "execution_count": 16,
   "id": "bc022251",
   "metadata": {},
   "outputs": [],
   "source": [
    "# Insert your code here\n"
   ]
  },
  {
   "cell_type": "markdown",
   "id": "be311629",
   "metadata": {},
   "source": [
    "Also, the titles of the x and y axes can probably be more explicit.\n",
    "❓ Use the [`.update_xaxes()`](https://plotly.com/python/reference/layout/xaxis/) and [`.update_yaxes()`](https://plotly.com/python/reference/layout/yaxis/) on your scatterplot to change the titles of your axes, don't forget to include units! Check out the documentation if necessary."
   ]
  },
  {
   "cell_type": "code",
   "execution_count": 19,
   "id": "4278e6e5",
   "metadata": {},
   "outputs": [],
   "source": [
    "# Insert your code below\n"
   ]
  },
  {
   "cell_type": "markdown",
   "id": "73921c31",
   "metadata": {},
   "source": [
    "In class, we saw how to create new **features** (i.e. new columns) using existing ones.</br>\n",
    "Specifically, we created a new **feature** called `exoplanet_mass` using the `mass_multiplier` and `mass_wrt` columns.</br>Run the cell below to create this new feature."
   ]
  },
  {
   "cell_type": "code",
   "execution_count": 20,
   "id": "8b9fb2f1",
   "metadata": {},
   "outputs": [],
   "source": [
    "# Run this cell\n",
    "exoplanet_df[\"conversion_factor_m\"] = exoplanet_df[\"mass_wrt\"].map({\"Jupiter\": 318, \"Earth\": 1})\n",
    "exoplanet_df[\"exoplanet_mass_wrt_earth\"] = exoplanet_df[\"mass_multiplier\"]*exoplanet_df[\"conversion_factor_m\"]\n",
    "exoplanet_df.drop(columns = [\"conversion_factor_m\", \"mass_multiplier\", \"mass_wrt\"], inplace = True)"
   ]
  },
  {
   "cell_type": "code",
   "execution_count": null,
   "id": "08a70bb8",
   "metadata": {},
   "outputs": [],
   "source": [
    "# Run this cell to check the new columns were added to your dataframe\n",
    "exoplanet_df"
   ]
  },
  {
   "cell_type": "markdown",
   "id": "04b36bb2",
   "metadata": {},
   "source": [
    "❓ Based on how `exoplanet_mass_wrt_earth` was computed, create a new **feature** called `exoplanet_radius_wrt_earth`.</br> **Hint:** Jupiter has a radius approx. 11 times greater than Earth's."
   ]
  },
  {
   "cell_type": "code",
   "execution_count": 21,
   "id": "d0713005",
   "metadata": {},
   "outputs": [],
   "source": [
    "# Insert your code below\n"
   ]
  },
  {
   "cell_type": "code",
   "execution_count": 24,
   "id": "59a4630e",
   "metadata": {},
   "outputs": [
    {
     "data": {
      "text/html": [
       "<div>\n",
       "<style scoped>\n",
       "    .dataframe tbody tr th:only-of-type {\n",
       "        vertical-align: middle;\n",
       "    }\n",
       "\n",
       "    .dataframe tbody tr th {\n",
       "        vertical-align: top;\n",
       "    }\n",
       "\n",
       "    .dataframe thead th {\n",
       "        text-align: right;\n",
       "    }\n",
       "</style>\n",
       "<table border=\"1\" class=\"dataframe\">\n",
       "  <thead>\n",
       "    <tr style=\"text-align: right;\">\n",
       "      <th></th>\n",
       "      <th>name</th>\n",
       "      <th>distance</th>\n",
       "      <th>stellar_magnitude</th>\n",
       "      <th>planet_type</th>\n",
       "      <th>discovery_year</th>\n",
       "      <th>orbital_radius</th>\n",
       "      <th>orbital_period</th>\n",
       "      <th>eccentricity</th>\n",
       "      <th>detection_method</th>\n",
       "      <th>exoplanet_mass_wrt_earth</th>\n",
       "      <th>exoplanet_radius_wrt_earth</th>\n",
       "    </tr>\n",
       "  </thead>\n",
       "  <tbody>\n",
       "    <tr>\n",
       "      <th>0</th>\n",
       "      <td>11 Comae Berenices b</td>\n",
       "      <td>304.0</td>\n",
       "      <td>4.72307</td>\n",
       "      <td>Gas Giant</td>\n",
       "      <td>2007</td>\n",
       "      <td>1.290000</td>\n",
       "      <td>0.892539</td>\n",
       "      <td>0.23</td>\n",
       "      <td>Radial Velocity</td>\n",
       "      <td>6169.20000</td>\n",
       "      <td>11.880</td>\n",
       "    </tr>\n",
       "    <tr>\n",
       "      <th>1</th>\n",
       "      <td>11 Ursae Minoris b</td>\n",
       "      <td>409.0</td>\n",
       "      <td>5.01300</td>\n",
       "      <td>Gas Giant</td>\n",
       "      <td>2009</td>\n",
       "      <td>1.530000</td>\n",
       "      <td>1.400000</td>\n",
       "      <td>0.08</td>\n",
       "      <td>Radial Velocity</td>\n",
       "      <td>4687.32000</td>\n",
       "      <td>11.990</td>\n",
       "    </tr>\n",
       "    <tr>\n",
       "      <th>2</th>\n",
       "      <td>14 Andromedae b</td>\n",
       "      <td>246.0</td>\n",
       "      <td>5.23133</td>\n",
       "      <td>Gas Giant</td>\n",
       "      <td>2008</td>\n",
       "      <td>0.830000</td>\n",
       "      <td>0.508693</td>\n",
       "      <td>0.00</td>\n",
       "      <td>Radial Velocity</td>\n",
       "      <td>1526.40000</td>\n",
       "      <td>12.650</td>\n",
       "    </tr>\n",
       "    <tr>\n",
       "      <th>3</th>\n",
       "      <td>14 Herculis b</td>\n",
       "      <td>58.0</td>\n",
       "      <td>6.61935</td>\n",
       "      <td>Gas Giant</td>\n",
       "      <td>2002</td>\n",
       "      <td>2.773069</td>\n",
       "      <td>4.800000</td>\n",
       "      <td>0.37</td>\n",
       "      <td>Radial Velocity</td>\n",
       "      <td>2588.14158</td>\n",
       "      <td>12.320</td>\n",
       "    </tr>\n",
       "    <tr>\n",
       "      <th>4</th>\n",
       "      <td>16 Cygni B b</td>\n",
       "      <td>69.0</td>\n",
       "      <td>6.21500</td>\n",
       "      <td>Gas Giant</td>\n",
       "      <td>1996</td>\n",
       "      <td>1.660000</td>\n",
       "      <td>2.200000</td>\n",
       "      <td>0.68</td>\n",
       "      <td>Radial Velocity</td>\n",
       "      <td>566.04000</td>\n",
       "      <td>13.200</td>\n",
       "    </tr>\n",
       "    <tr>\n",
       "      <th>...</th>\n",
       "      <td>...</td>\n",
       "      <td>...</td>\n",
       "      <td>...</td>\n",
       "      <td>...</td>\n",
       "      <td>...</td>\n",
       "      <td>...</td>\n",
       "      <td>...</td>\n",
       "      <td>...</td>\n",
       "      <td>...</td>\n",
       "      <td>...</td>\n",
       "      <td>...</td>\n",
       "    </tr>\n",
       "    <tr>\n",
       "      <th>5245</th>\n",
       "      <td>XO-7 b</td>\n",
       "      <td>764.0</td>\n",
       "      <td>10.52100</td>\n",
       "      <td>Gas Giant</td>\n",
       "      <td>2019</td>\n",
       "      <td>0.044210</td>\n",
       "      <td>0.007940</td>\n",
       "      <td>0.04</td>\n",
       "      <td>Transit</td>\n",
       "      <td>225.46200</td>\n",
       "      <td>15.103</td>\n",
       "    </tr>\n",
       "    <tr>\n",
       "      <th>5246</th>\n",
       "      <td>YSES 2 b</td>\n",
       "      <td>357.0</td>\n",
       "      <td>10.88500</td>\n",
       "      <td>Gas Giant</td>\n",
       "      <td>2021</td>\n",
       "      <td>115.000000</td>\n",
       "      <td>1176.500000</td>\n",
       "      <td>0.00</td>\n",
       "      <td>Direct Imaging</td>\n",
       "      <td>2003.40000</td>\n",
       "      <td>12.540</td>\n",
       "    </tr>\n",
       "    <tr>\n",
       "      <th>5247</th>\n",
       "      <td>YZ Ceti b</td>\n",
       "      <td>12.0</td>\n",
       "      <td>12.07400</td>\n",
       "      <td>Terrestrial</td>\n",
       "      <td>2017</td>\n",
       "      <td>0.016340</td>\n",
       "      <td>0.005476</td>\n",
       "      <td>0.06</td>\n",
       "      <td>Radial Velocity</td>\n",
       "      <td>0.70000</td>\n",
       "      <td>0.913</td>\n",
       "    </tr>\n",
       "    <tr>\n",
       "      <th>5248</th>\n",
       "      <td>YZ Ceti c</td>\n",
       "      <td>12.0</td>\n",
       "      <td>12.07400</td>\n",
       "      <td>Super Earth</td>\n",
       "      <td>2017</td>\n",
       "      <td>0.021560</td>\n",
       "      <td>0.008487</td>\n",
       "      <td>0.00</td>\n",
       "      <td>Radial Velocity</td>\n",
       "      <td>1.14000</td>\n",
       "      <td>1.050</td>\n",
       "    </tr>\n",
       "    <tr>\n",
       "      <th>5249</th>\n",
       "      <td>YZ Ceti d</td>\n",
       "      <td>12.0</td>\n",
       "      <td>12.07400</td>\n",
       "      <td>Super Earth</td>\n",
       "      <td>2017</td>\n",
       "      <td>0.028510</td>\n",
       "      <td>0.012868</td>\n",
       "      <td>0.07</td>\n",
       "      <td>Radial Velocity</td>\n",
       "      <td>1.09000</td>\n",
       "      <td>1.030</td>\n",
       "    </tr>\n",
       "  </tbody>\n",
       "</table>\n",
       "<p>5250 rows × 11 columns</p>\n",
       "</div>"
      ],
      "text/plain": [
       "                      name  distance  stellar_magnitude  planet_type  \\\n",
       "0     11 Comae Berenices b     304.0            4.72307    Gas Giant   \n",
       "1       11 Ursae Minoris b     409.0            5.01300    Gas Giant   \n",
       "2          14 Andromedae b     246.0            5.23133    Gas Giant   \n",
       "3            14 Herculis b      58.0            6.61935    Gas Giant   \n",
       "4             16 Cygni B b      69.0            6.21500    Gas Giant   \n",
       "...                    ...       ...                ...          ...   \n",
       "5245                XO-7 b     764.0           10.52100    Gas Giant   \n",
       "5246              YSES 2 b     357.0           10.88500    Gas Giant   \n",
       "5247             YZ Ceti b      12.0           12.07400  Terrestrial   \n",
       "5248             YZ Ceti c      12.0           12.07400  Super Earth   \n",
       "5249             YZ Ceti d      12.0           12.07400  Super Earth   \n",
       "\n",
       "      discovery_year  orbital_radius  orbital_period  eccentricity  \\\n",
       "0               2007        1.290000        0.892539          0.23   \n",
       "1               2009        1.530000        1.400000          0.08   \n",
       "2               2008        0.830000        0.508693          0.00   \n",
       "3               2002        2.773069        4.800000          0.37   \n",
       "4               1996        1.660000        2.200000          0.68   \n",
       "...              ...             ...             ...           ...   \n",
       "5245            2019        0.044210        0.007940          0.04   \n",
       "5246            2021      115.000000     1176.500000          0.00   \n",
       "5247            2017        0.016340        0.005476          0.06   \n",
       "5248            2017        0.021560        0.008487          0.00   \n",
       "5249            2017        0.028510        0.012868          0.07   \n",
       "\n",
       "     detection_method  exoplanet_mass_wrt_earth  exoplanet_radius_wrt_earth  \n",
       "0     Radial Velocity                6169.20000                      11.880  \n",
       "1     Radial Velocity                4687.32000                      11.990  \n",
       "2     Radial Velocity                1526.40000                      12.650  \n",
       "3     Radial Velocity                2588.14158                      12.320  \n",
       "4     Radial Velocity                 566.04000                      13.200  \n",
       "...               ...                       ...                         ...  \n",
       "5245          Transit                 225.46200                      15.103  \n",
       "5246   Direct Imaging                2003.40000                      12.540  \n",
       "5247  Radial Velocity                   0.70000                       0.913  \n",
       "5248  Radial Velocity                   1.14000                       1.050  \n",
       "5249  Radial Velocity                   1.09000                       1.030  \n",
       "\n",
       "[5250 rows x 11 columns]"
      ]
     },
     "execution_count": 24,
     "metadata": {},
     "output_type": "execute_result"
    }
   ],
   "source": [
    "# Check that two new columns have been added to your dataframe\n",
    "exoplanet_df"
   ]
  },
  {
   "cell_type": "markdown",
   "id": "b1419de4",
   "metadata": {},
   "source": [
    "Now that you have both the mass and the radius of each exoplanet with respect to Earth, you can compute the **density**.</br>\n",
    "❓ Create a new `density` **feature** in your dataframe, where</br>"
   ]
  },
  {
   "cell_type": "markdown",
   "id": "36266699",
   "metadata": {},
   "source": [
    "$$density = \\frac{mass}{volume},\\hspace{5 mm}volume = \\frac{4}{3}\\times\\pi\\times{R}^3$$"
   ]
  },
  {
   "cell_type": "code",
   "execution_count": 25,
   "id": "5860a2c0",
   "metadata": {},
   "outputs": [],
   "source": [
    "# Insert your code below\n"
   ]
  },
  {
   "cell_type": "code",
   "execution_count": 26,
   "id": "f7611f26",
   "metadata": {},
   "outputs": [
    {
     "data": {
      "text/html": [
       "<div>\n",
       "<style scoped>\n",
       "    .dataframe tbody tr th:only-of-type {\n",
       "        vertical-align: middle;\n",
       "    }\n",
       "\n",
       "    .dataframe tbody tr th {\n",
       "        vertical-align: top;\n",
       "    }\n",
       "\n",
       "    .dataframe thead th {\n",
       "        text-align: right;\n",
       "    }\n",
       "</style>\n",
       "<table border=\"1\" class=\"dataframe\">\n",
       "  <thead>\n",
       "    <tr style=\"text-align: right;\">\n",
       "      <th></th>\n",
       "      <th>name</th>\n",
       "      <th>distance</th>\n",
       "      <th>stellar_magnitude</th>\n",
       "      <th>planet_type</th>\n",
       "      <th>discovery_year</th>\n",
       "      <th>orbital_radius</th>\n",
       "      <th>orbital_period</th>\n",
       "      <th>eccentricity</th>\n",
       "      <th>detection_method</th>\n",
       "      <th>exoplanet_mass_wrt_earth</th>\n",
       "      <th>exoplanet_radius_wrt_earth</th>\n",
       "      <th>density</th>\n",
       "    </tr>\n",
       "  </thead>\n",
       "  <tbody>\n",
       "    <tr>\n",
       "      <th>0</th>\n",
       "      <td>11 Comae Berenices b</td>\n",
       "      <td>304.0</td>\n",
       "      <td>4.72307</td>\n",
       "      <td>Gas Giant</td>\n",
       "      <td>2007</td>\n",
       "      <td>1.290000</td>\n",
       "      <td>0.892539</td>\n",
       "      <td>0.23</td>\n",
       "      <td>Radial Velocity</td>\n",
       "      <td>6169.20000</td>\n",
       "      <td>11.880</td>\n",
       "      <td>0.878843</td>\n",
       "    </tr>\n",
       "    <tr>\n",
       "      <th>1</th>\n",
       "      <td>11 Ursae Minoris b</td>\n",
       "      <td>409.0</td>\n",
       "      <td>5.01300</td>\n",
       "      <td>Gas Giant</td>\n",
       "      <td>2009</td>\n",
       "      <td>1.530000</td>\n",
       "      <td>1.400000</td>\n",
       "      <td>0.08</td>\n",
       "      <td>Radial Velocity</td>\n",
       "      <td>4687.32000</td>\n",
       "      <td>11.990</td>\n",
       "      <td>0.649529</td>\n",
       "    </tr>\n",
       "    <tr>\n",
       "      <th>2</th>\n",
       "      <td>14 Andromedae b</td>\n",
       "      <td>246.0</td>\n",
       "      <td>5.23133</td>\n",
       "      <td>Gas Giant</td>\n",
       "      <td>2008</td>\n",
       "      <td>0.830000</td>\n",
       "      <td>0.508693</td>\n",
       "      <td>0.00</td>\n",
       "      <td>Radial Velocity</td>\n",
       "      <td>1526.40000</td>\n",
       "      <td>12.650</td>\n",
       "      <td>0.180106</td>\n",
       "    </tr>\n",
       "    <tr>\n",
       "      <th>3</th>\n",
       "      <td>14 Herculis b</td>\n",
       "      <td>58.0</td>\n",
       "      <td>6.61935</td>\n",
       "      <td>Gas Giant</td>\n",
       "      <td>2002</td>\n",
       "      <td>2.773069</td>\n",
       "      <td>4.800000</td>\n",
       "      <td>0.37</td>\n",
       "      <td>Radial Velocity</td>\n",
       "      <td>2588.14158</td>\n",
       "      <td>12.320</td>\n",
       "      <td>0.330588</td>\n",
       "    </tr>\n",
       "    <tr>\n",
       "      <th>4</th>\n",
       "      <td>16 Cygni B b</td>\n",
       "      <td>69.0</td>\n",
       "      <td>6.21500</td>\n",
       "      <td>Gas Giant</td>\n",
       "      <td>1996</td>\n",
       "      <td>1.660000</td>\n",
       "      <td>2.200000</td>\n",
       "      <td>0.68</td>\n",
       "      <td>Radial Velocity</td>\n",
       "      <td>566.04000</td>\n",
       "      <td>13.200</td>\n",
       "      <td>0.058784</td>\n",
       "    </tr>\n",
       "    <tr>\n",
       "      <th>...</th>\n",
       "      <td>...</td>\n",
       "      <td>...</td>\n",
       "      <td>...</td>\n",
       "      <td>...</td>\n",
       "      <td>...</td>\n",
       "      <td>...</td>\n",
       "      <td>...</td>\n",
       "      <td>...</td>\n",
       "      <td>...</td>\n",
       "      <td>...</td>\n",
       "      <td>...</td>\n",
       "      <td>...</td>\n",
       "    </tr>\n",
       "    <tr>\n",
       "      <th>5245</th>\n",
       "      <td>XO-7 b</td>\n",
       "      <td>764.0</td>\n",
       "      <td>10.52100</td>\n",
       "      <td>Gas Giant</td>\n",
       "      <td>2019</td>\n",
       "      <td>0.044210</td>\n",
       "      <td>0.007940</td>\n",
       "      <td>0.04</td>\n",
       "      <td>Transit</td>\n",
       "      <td>225.46200</td>\n",
       "      <td>15.103</td>\n",
       "      <td>0.015632</td>\n",
       "    </tr>\n",
       "    <tr>\n",
       "      <th>5246</th>\n",
       "      <td>YSES 2 b</td>\n",
       "      <td>357.0</td>\n",
       "      <td>10.88500</td>\n",
       "      <td>Gas Giant</td>\n",
       "      <td>2021</td>\n",
       "      <td>115.000000</td>\n",
       "      <td>1176.500000</td>\n",
       "      <td>0.00</td>\n",
       "      <td>Direct Imaging</td>\n",
       "      <td>2003.40000</td>\n",
       "      <td>12.540</td>\n",
       "      <td>0.242665</td>\n",
       "    </tr>\n",
       "    <tr>\n",
       "      <th>5247</th>\n",
       "      <td>YZ Ceti b</td>\n",
       "      <td>12.0</td>\n",
       "      <td>12.07400</td>\n",
       "      <td>Terrestrial</td>\n",
       "      <td>2017</td>\n",
       "      <td>0.016340</td>\n",
       "      <td>0.005476</td>\n",
       "      <td>0.06</td>\n",
       "      <td>Radial Velocity</td>\n",
       "      <td>0.70000</td>\n",
       "      <td>0.913</td>\n",
       "      <td>0.219694</td>\n",
       "    </tr>\n",
       "    <tr>\n",
       "      <th>5248</th>\n",
       "      <td>YZ Ceti c</td>\n",
       "      <td>12.0</td>\n",
       "      <td>12.07400</td>\n",
       "      <td>Super Earth</td>\n",
       "      <td>2017</td>\n",
       "      <td>0.021560</td>\n",
       "      <td>0.008487</td>\n",
       "      <td>0.00</td>\n",
       "      <td>Radial Velocity</td>\n",
       "      <td>1.14000</td>\n",
       "      <td>1.050</td>\n",
       "      <td>0.235217</td>\n",
       "    </tr>\n",
       "    <tr>\n",
       "      <th>5249</th>\n",
       "      <td>YZ Ceti d</td>\n",
       "      <td>12.0</td>\n",
       "      <td>12.07400</td>\n",
       "      <td>Super Earth</td>\n",
       "      <td>2017</td>\n",
       "      <td>0.028510</td>\n",
       "      <td>0.012868</td>\n",
       "      <td>0.07</td>\n",
       "      <td>Radial Velocity</td>\n",
       "      <td>1.09000</td>\n",
       "      <td>1.030</td>\n",
       "      <td>0.238257</td>\n",
       "    </tr>\n",
       "  </tbody>\n",
       "</table>\n",
       "<p>5250 rows × 12 columns</p>\n",
       "</div>"
      ],
      "text/plain": [
       "                      name  distance  stellar_magnitude  planet_type  \\\n",
       "0     11 Comae Berenices b     304.0            4.72307    Gas Giant   \n",
       "1       11 Ursae Minoris b     409.0            5.01300    Gas Giant   \n",
       "2          14 Andromedae b     246.0            5.23133    Gas Giant   \n",
       "3            14 Herculis b      58.0            6.61935    Gas Giant   \n",
       "4             16 Cygni B b      69.0            6.21500    Gas Giant   \n",
       "...                    ...       ...                ...          ...   \n",
       "5245                XO-7 b     764.0           10.52100    Gas Giant   \n",
       "5246              YSES 2 b     357.0           10.88500    Gas Giant   \n",
       "5247             YZ Ceti b      12.0           12.07400  Terrestrial   \n",
       "5248             YZ Ceti c      12.0           12.07400  Super Earth   \n",
       "5249             YZ Ceti d      12.0           12.07400  Super Earth   \n",
       "\n",
       "      discovery_year  orbital_radius  orbital_period  eccentricity  \\\n",
       "0               2007        1.290000        0.892539          0.23   \n",
       "1               2009        1.530000        1.400000          0.08   \n",
       "2               2008        0.830000        0.508693          0.00   \n",
       "3               2002        2.773069        4.800000          0.37   \n",
       "4               1996        1.660000        2.200000          0.68   \n",
       "...              ...             ...             ...           ...   \n",
       "5245            2019        0.044210        0.007940          0.04   \n",
       "5246            2021      115.000000     1176.500000          0.00   \n",
       "5247            2017        0.016340        0.005476          0.06   \n",
       "5248            2017        0.021560        0.008487          0.00   \n",
       "5249            2017        0.028510        0.012868          0.07   \n",
       "\n",
       "     detection_method  exoplanet_mass_wrt_earth  exoplanet_radius_wrt_earth  \\\n",
       "0     Radial Velocity                6169.20000                      11.880   \n",
       "1     Radial Velocity                4687.32000                      11.990   \n",
       "2     Radial Velocity                1526.40000                      12.650   \n",
       "3     Radial Velocity                2588.14158                      12.320   \n",
       "4     Radial Velocity                 566.04000                      13.200   \n",
       "...               ...                       ...                         ...   \n",
       "5245          Transit                 225.46200                      15.103   \n",
       "5246   Direct Imaging                2003.40000                      12.540   \n",
       "5247  Radial Velocity                   0.70000                       0.913   \n",
       "5248  Radial Velocity                   1.14000                       1.050   \n",
       "5249  Radial Velocity                   1.09000                       1.030   \n",
       "\n",
       "       density  \n",
       "0     0.878843  \n",
       "1     0.649529  \n",
       "2     0.180106  \n",
       "3     0.330588  \n",
       "4     0.058784  \n",
       "...        ...  \n",
       "5245  0.015632  \n",
       "5246  0.242665  \n",
       "5247  0.219694  \n",
       "5248  0.235217  \n",
       "5249  0.238257  \n",
       "\n",
       "[5250 rows x 12 columns]"
      ]
     },
     "execution_count": 26,
     "metadata": {},
     "output_type": "execute_result"
    }
   ],
   "source": [
    "# Check that your new feature has been added to your dataframe\n",
    "exoplanet_df"
   ]
  },
  {
   "cell_type": "markdown",
   "id": "a211dbc4",
   "metadata": {},
   "source": [
    "❓ Now that you added a few more **features** to your data, let's see if they're correlated with each other.</br>\n",
    "To do this you can first create a correlation matrix with pandas' `.corr()` method.</br>\n",
    "Then display your matrix as a heatmap using Plotly's `.imshow()` method."
   ]
  },
  {
   "cell_type": "code",
   "execution_count": 18,
   "id": "f06c1b56",
   "metadata": {},
   "outputs": [],
   "source": [
    "# Insert your code below\n"
   ]
  },
  {
   "cell_type": "markdown",
   "id": "97fd2c48",
   "metadata": {},
   "source": [
    "❓ Let's improve your heatmap. Check out Plotly's [documentation](https://plotly.com/python/heatmaps/) and let's add the R-squared values on the heatmap's cells."
   ]
  },
  {
   "cell_type": "code",
   "execution_count": 19,
   "id": "85761662",
   "metadata": {},
   "outputs": [],
   "source": [
    "# Insert your code below\n"
   ]
  },
  {
   "cell_type": "markdown",
   "id": "36535f1a",
   "metadata": {},
   "source": [
    "❓ R-squared values are now displayed on the plot but they have way too many decimals.</br>Modify your `matrix` using the `.round()` method to only have 2 decimals. Check out [Pandas](https://pandas.pydata.org/docs/reference/api/pandas.DataFrame.round.html) documentation if needed."
   ]
  },
  {
   "cell_type": "code",
   "execution_count": 32,
   "id": "436b5820",
   "metadata": {},
   "outputs": [],
   "source": [
    "# Insert your code below\n"
   ]
  },
  {
   "cell_type": "markdown",
   "id": "8ca9fac6",
   "metadata": {},
   "source": [
    "❓ Now plot again your rounded matrix using `.imshow()`."
   ]
  },
  {
   "cell_type": "code",
   "execution_count": 20,
   "id": "586968db",
   "metadata": {},
   "outputs": [],
   "source": [
    "# Insert your code below\n"
   ]
  },
  {
   "cell_type": "markdown",
   "id": "75feed90",
   "metadata": {},
   "source": [
    "❓ You can also change the color scheme of your heatmap using the `color_continuous_scale` parameter of `.imshow()`.</br>\n",
    "Check out Plotly's [documentation](https://plotly.com/python/colorscales/#color-scales-in-plotly-express) if necessary. Also, [here](https://plotly.com/python/builtin-colorscales/) you'll find all of Plotly's built-in color scales."
   ]
  },
  {
   "cell_type": "code",
   "execution_count": 21,
   "id": "9a7c8f2a",
   "metadata": {},
   "outputs": [],
   "source": [
    "# Insert your code below\n"
   ]
  },
  {
   "cell_type": "markdown",
   "id": "a1ac64a0",
   "metadata": {},
   "source": [
    "❓ Finally, by storing your heatmap inside a new variable, say `correlation_map`, you can use the `.update_layout()` method to add a main text, fix the map's width and height, and make any other styling modification you want."
   ]
  },
  {
   "cell_type": "code",
   "execution_count": null,
   "id": "c73d98e8",
   "metadata": {},
   "outputs": [],
   "source": [
    "# Insert your code below\n"
   ]
  },
  {
   "cell_type": "markdown",
   "id": "5379137f",
   "metadata": {},
   "source": [
    "Now that you have a pretty-looking correlation map, take a couple of minutes to reflect on it.</br>\n",
    "❓ Which features are positively correlated?</br>\n",
    "❓ Are there any features that are negatively correlated?"
   ]
  },
  {
   "cell_type": "markdown",
   "id": "a18c63be",
   "metadata": {},
   "source": [
    "**Answer:**\n",
    "1. The strongest positive correlation exists between the `orbital_radius` and the `orbital_period` of an exoplanet. This is because the two are directly related mathematically. The `orbital radius` of an exoplanet combined with its orbital speed, that you could easily compute and add to your dataframe, determines the `orbital_period`.</br>\n",
    "2. More interestingly, the `stellar_magnitude` of an exoplanet is positively correlated to its `distance` from Earth. The `stellar_magnitude` represents the brightness of an exoplanet. Most astronomical observations are made by instruments on Earth or in Earth's orbit. Therefore, the further the exoplanet is, the less bright it appears to our telescopes, meaning that the greater the `distance` between an exolpanet and Earth, the lower the brightness of the exoplanet. So how come do we observe a **positive** rather than **negative** correlation between `distance` and `stellar_magnitude`? This is because by convention, the brighter the exoplanet is, the lower the value of its `stellar_magnitude`.</br>\n",
    "3. Finally, from the heatmap we can also observe a rather strong **negative** correlation between an exoplanet `eccentricity` and its `stellar_magnitude`. "
   ]
  },
  {
   "cell_type": "markdown",
   "id": "3d34dcb7",
   "metadata": {},
   "source": [
    "❓ Let's now investigate the distribution of densities per planet type.</br>\n",
    "A great way to visualize a distribution is to use a [box plot](https://plotly.com/python/box-plots/)."
   ]
  },
  {
   "cell_type": "code",
   "execution_count": 26,
   "id": "8e91cbe2",
   "metadata": {},
   "outputs": [],
   "source": [
    "# Insert your code below\n"
   ]
  },
  {
   "cell_type": "markdown",
   "id": "c5fa4842",
   "metadata": {},
   "source": [
    "❓ You might want to convert the y-axis into a **log scale**. Using the detailed [documentation](https://plotly.com/python-api-reference/generated/plotly.express.box), find the method parameter that allows you to transform the y-axis into a log scale."
   ]
  },
  {
   "cell_type": "code",
   "execution_count": null,
   "id": "14560443",
   "metadata": {},
   "outputs": [],
   "source": [
    "# Insert your code below\n"
   ]
  },
  {
   "cell_type": "markdown",
   "id": "d25bf1e9",
   "metadata": {},
   "source": [
    "❓ Store your box plot inside a new variable and use the `.update_layout()` to style it to your preferences."
   ]
  },
  {
   "cell_type": "code",
   "execution_count": null,
   "id": "38d79b68",
   "metadata": {},
   "outputs": [],
   "source": [
    "# Insert your code below\n"
   ]
  },
  {
   "cell_type": "markdown",
   "id": "c0efd31a",
   "metadata": {},
   "source": [
    "Take a moment to reflect on your box plot, what can you tell about the densities of each planet type?</br>\n",
    "Why are **terrestrial** planets labelled **terrestrial**?"
   ]
  },
  {
   "cell_type": "markdown",
   "id": "5b178a50",
   "metadata": {},
   "source": [
    "For the final part of this notebook, let's have a look at the `detection methods`.</br>\n",
    "❓ Using the `.groupby()` method, aggregate `exoplanet_df` so as to get the total number of exoplanets detected for each `detection_method`. Think about the aggregator function to use in combination with `.groupby()`.</br>\n",
    "Check out the [documentation](https://pandas.pydata.org/docs/reference/api/pandas.DataFrame.groupby.html) if necessary."
   ]
  },
  {
   "cell_type": "code",
   "execution_count": 5,
   "id": "4085d788",
   "metadata": {},
   "outputs": [],
   "source": [
    "# Insert your code below\n"
   ]
  },
  {
   "cell_type": "markdown",
   "id": "5026ba28",
   "metadata": {},
   "source": [
    "❓ The `.groupby()` method outputs a new dataframe where the column you passed inside `.groupby()` is now the row index, which is not great. Check out the [documentation](https://pandas.pydata.org/docs/reference/api/pandas.DataFrame.groupby.html) again and modify your code above to prevent `detection_method` to become the row index. See how now `detection_method` remains a column of `exoplanet_df`."
   ]
  },
  {
   "cell_type": "code",
   "execution_count": null,
   "id": "760377df",
   "metadata": {},
   "outputs": [],
   "source": [
    "# Insert your code below\n"
   ]
  },
  {
   "cell_type": "markdown",
   "id": "831bc3d0",
   "metadata": {},
   "source": [
    "Pandas' `.groupby()` is very powerful and offers a wide variety of possibilites to aggregate your dataframe. In fact, you can aggregate your data on **two** or more columns.</br>\n",
    "❓ Modify your `.groupby()` code above as to aggregated `exoplanet_df` on `detection_method` and `planet_type`."
   ]
  },
  {
   "cell_type": "code",
   "execution_count": 25,
   "id": "bed0d9db",
   "metadata": {},
   "outputs": [],
   "source": [
    "# Insert your code below\n"
   ]
  },
  {
   "cell_type": "markdown",
   "id": "e3b95a33",
   "metadata": {},
   "source": [
    "Also, the `.groupby()` methods returns a new dataframe with all the original columns where in fact you only need to keep one of the aggregated columns.</br>\n",
    "❓ From your double aggregation above, retrieve only the `detection_method`, `planet_type`, and `name` columns.\n",
    "Store your dataframe inside a new variable called `method_per_planet_type`."
   ]
  },
  {
   "cell_type": "code",
   "execution_count": 24,
   "id": "803a5028",
   "metadata": {},
   "outputs": [],
   "source": [
    "# Insert your code below\n"
   ]
  },
  {
   "cell_type": "code",
   "execution_count": 23,
   "id": "b4f22cff",
   "metadata": {},
   "outputs": [],
   "source": [
    "# Test your code\n",
    "print(method_per_planet_type.shape == (28,3))\n",
    "list(method_per_planet_type.columns) == [\"detection_method\", \"planet_type\", \"name\"]"
   ]
  },
  {
   "cell_type": "markdown",
   "id": "d3183e0e",
   "metadata": {},
   "source": [
    "❓ Finally, let's now plot a `bar` chart illustrating the total number of exoplanets discovered by each detection method and for each planet type.</br>Check out Plotly's [documentation](https://plotly.com/python/bar-charts/#bar-chart-with-plotly-express) if necessary. You might want to convert your y-axis into a log scale."
   ]
  },
  {
   "cell_type": "code",
   "execution_count": 22,
   "id": "396557c1",
   "metadata": {},
   "outputs": [],
   "source": [
    "# Insert your code below\n"
   ]
  },
  {
   "cell_type": "markdown",
   "id": "918ac918",
   "metadata": {},
   "source": [
    "❓ Store your bar chart inside a new variable and use the `.update_layout()` methods to style your graph to your preferences."
   ]
  },
  {
   "cell_type": "code",
   "execution_count": null,
   "id": "078a4ffc",
   "metadata": {},
   "outputs": [],
   "source": [
    "# Insert your code below\n"
   ]
  },
  {
   "cell_type": "markdown",
   "id": "8c464bea",
   "metadata": {},
   "source": [
    "# 🎉 Congratulations on finishing this notebook!"
   ]
  },
  {
   "cell_type": "markdown",
   "id": "2b50cc3a",
   "metadata": {},
   "source": [
    "You now know how to read, manipulate, and visualize .CSV files with `pandas` and `plotly express`!"
   ]
  }
 ],
 "metadata": {
  "kernelspec": {
   "display_name": "Python 3 (ipykernel)",
   "language": "python",
   "name": "python3"
  },
  "language_info": {
   "codemirror_mode": {
    "name": "ipython",
    "version": 3
   },
   "file_extension": ".py",
   "mimetype": "text/x-python",
   "name": "python",
   "nbconvert_exporter": "python",
   "pygments_lexer": "ipython3",
   "version": "3.9.2"
  },
  "toc": {
   "base_numbering": 1,
   "nav_menu": {},
   "number_sections": true,
   "sideBar": true,
   "skip_h1_title": false,
   "title_cell": "Table of Contents",
   "title_sidebar": "Contents",
   "toc_cell": false,
   "toc_position": {},
   "toc_section_display": true,
   "toc_window_display": false
  },
  "varInspector": {
   "cols": {
    "lenName": 16,
    "lenType": 16,
    "lenVar": 40
   },
   "kernels_config": {
    "python": {
     "delete_cmd_postfix": "",
     "delete_cmd_prefix": "del ",
     "library": "var_list.py",
     "varRefreshCmd": "print(var_dic_list())"
    },
    "r": {
     "delete_cmd_postfix": ") ",
     "delete_cmd_prefix": "rm(",
     "library": "var_list.r",
     "varRefreshCmd": "cat(var_dic_list()) "
    }
   },
   "types_to_exclude": [
    "module",
    "function",
    "builtin_function_or_method",
    "instance",
    "_Feature"
   ],
   "window_display": false
  }
 },
 "nbformat": 4,
 "nbformat_minor": 5
}
