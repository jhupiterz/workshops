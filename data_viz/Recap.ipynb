{
 "cells": [
  {
   "cell_type": "markdown",
   "id": "2bc851fb",
   "metadata": {},
   "source": [
    "# Recap notebook"
   ]
  },
  {
   "cell_type": "markdown",
   "id": "38a63f26",
   "metadata": {},
   "source": [
    "This is a recap of the content seen during the lecture"
   ]
  },
  {
   "cell_type": "markdown",
   "id": "63abd8a2",
   "metadata": {},
   "source": [
    "# Pandas"
   ]
  },
  {
   "cell_type": "markdown",
   "id": "7be71348",
   "metadata": {},
   "source": [
    "## Imports"
   ]
  },
  {
   "cell_type": "code",
   "execution_count": 1,
   "id": "e6e91da0",
   "metadata": {},
   "outputs": [],
   "source": [
    "# Genral import\n",
    "import pandas as pd"
   ]
  },
  {
   "cell_type": "code",
   "execution_count": null,
   "id": "710e06e8",
   "metadata": {},
   "outputs": [],
   "source": [
    "# Read CSV file and store inside variable\n",
    "my_dataframe = pd.read_csv(\"path/to/data/file\")"
   ]
  },
  {
   "cell_type": "markdown",
   "id": "995c1dac",
   "metadata": {},
   "source": [
    "## Manipulation of dataframes"
   ]
  },
  {
   "cell_type": "code",
   "execution_count": null,
   "id": "78f60c08",
   "metadata": {},
   "outputs": [],
   "source": [
    "# Get size of dataframe\n",
    "my_dataframe.shape"
   ]
  },
  {
   "cell_type": "code",
   "execution_count": null,
   "id": "a422e915",
   "metadata": {},
   "outputs": [],
   "source": [
    "# Get data types of each column\n",
    "my_dataframe.dtypes"
   ]
  },
  {
   "cell_type": "code",
   "execution_count": null,
   "id": "aa18b7e4",
   "metadata": {},
   "outputs": [],
   "source": [
    "# Select 1 column of dataframe\n",
    "my_dataframe[\"column_name\"]"
   ]
  },
  {
   "cell_type": "code",
   "execution_count": null,
   "id": "10257f51",
   "metadata": {},
   "outputs": [],
   "source": [
    "# Select 2 or more columns of dataframe\n",
    "my_dataframe[[\"column_name_1\", \"column_name_2\"]]"
   ]
  },
  {
   "cell_type": "code",
   "execution_count": null,
   "id": "e92d2bf6",
   "metadata": {},
   "outputs": [],
   "source": [
    "# Filter dataframe with boolean indexing.\n",
    "# Example: get all the rows in my_dataframe where column_name == \"Python\"\n",
    "my_dataframe[my_dataframe[\"column_name\"] == \"Python\"]"
   ]
  },
  {
   "cell_type": "code",
   "execution_count": null,
   "id": "b8360f1e",
   "metadata": {},
   "outputs": [],
   "source": [
    "# Get the unique values inside a column\n",
    "my_dataframe[\"column_name\"].unique()"
   ]
  },
  {
   "cell_type": "code",
   "execution_count": null,
   "id": "d189d90f",
   "metadata": {},
   "outputs": [],
   "source": [
    "# Get the number occurences of each value inside column\n",
    "my_dataframe[\"column_name\"].value_counts()"
   ]
  },
  {
   "cell_type": "code",
   "execution_count": null,
   "id": "1a913555",
   "metadata": {},
   "outputs": [],
   "source": [
    "# Aggregate dataframe on one column\n",
    "# Example: for each value inside column_name, get the mean\n",
    "my_dataframe.groupby(\"column_name\").mean()"
   ]
  },
  {
   "cell_type": "markdown",
   "id": "d17b1b6c",
   "metadata": {},
   "source": [
    "# Plotly express"
   ]
  },
  {
   "cell_type": "code",
   "execution_count": 2,
   "id": "6e5de7b0",
   "metadata": {},
   "outputs": [],
   "source": [
    "# General import\n",
    "import plotly.express as px"
   ]
  },
  {
   "cell_type": "code",
   "execution_count": null,
   "id": "bea4f4dc",
   "metadata": {},
   "outputs": [],
   "source": [
    "# Scatter plot\n",
    "px.scatter(data_frame = my_dataframe, x = \"column_name_x\", y = \"column_name_y\")"
   ]
  },
  {
   "cell_type": "code",
   "execution_count": null,
   "id": "efb54c29",
   "metadata": {},
   "outputs": [],
   "source": [
    "# Line plot\n",
    "px.plot(data_frame = my_dataframe, x = \"column_name_x\", y = \"column_name_y\")"
   ]
  },
  {
   "cell_type": "code",
   "execution_count": null,
   "id": "76c779b7",
   "metadata": {},
   "outputs": [],
   "source": [
    "# Bar chart\n",
    "px.bar(data_frame = my_dataframe, x = \"column_categories\", y = \"column_name_y\")\n",
    "# If Bar chart is not working, try a histogram\n",
    "px.histogram(data_frame = my_dataframe, x = \"column_categories\")"
   ]
  },
  {
   "cell_type": "code",
   "execution_count": null,
   "id": "ef6f83ae",
   "metadata": {},
   "outputs": [],
   "source": [
    "# Pie chart\n",
    "px.pie(data_frame = my_dataframe, names = \"column_categories\")"
   ]
  },
  {
   "cell_type": "code",
   "execution_count": null,
   "id": "ee550c71",
   "metadata": {},
   "outputs": [],
   "source": [
    "# Box plot for a single variable\n",
    "px.box(data_frame = my_dataframe, y = \"column_name_y\")\n",
    "# Box plot for multiple variables\n",
    "px.box(data_frame = my_dataframe, x = \"column_name_category\", y = \"column_name_y\")"
   ]
  },
  {
   "cell_type": "code",
   "execution_count": null,
   "id": "84feb16b",
   "metadata": {},
   "outputs": [],
   "source": [
    "# Correlation matrix\n",
    "corr_matrix = my_dataframe.corr(numeric_only = True)\n",
    "# Plot the correlation matrix\n",
    "px.imshow(corr_matrix)"
   ]
  }
 ],
 "metadata": {
  "kernelspec": {
   "display_name": "Python 3 (ipykernel)",
   "language": "python",
   "name": "python3"
  },
  "language_info": {
   "codemirror_mode": {
    "name": "ipython",
    "version": 3
   },
   "file_extension": ".py",
   "mimetype": "text/x-python",
   "name": "python",
   "nbconvert_exporter": "python",
   "pygments_lexer": "ipython3",
   "version": "3.9.2"
  },
  "toc": {
   "base_numbering": 1,
   "nav_menu": {},
   "number_sections": true,
   "sideBar": true,
   "skip_h1_title": false,
   "title_cell": "Table of Contents",
   "title_sidebar": "Contents",
   "toc_cell": false,
   "toc_position": {},
   "toc_section_display": true,
   "toc_window_display": false
  },
  "varInspector": {
   "cols": {
    "lenName": 16,
    "lenType": 16,
    "lenVar": 40
   },
   "kernels_config": {
    "python": {
     "delete_cmd_postfix": "",
     "delete_cmd_prefix": "del ",
     "library": "var_list.py",
     "varRefreshCmd": "print(var_dic_list())"
    },
    "r": {
     "delete_cmd_postfix": ") ",
     "delete_cmd_prefix": "rm(",
     "library": "var_list.r",
     "varRefreshCmd": "cat(var_dic_list()) "
    }
   },
   "types_to_exclude": [
    "module",
    "function",
    "builtin_function_or_method",
    "instance",
    "_Feature"
   ],
   "window_display": false
  }
 },
 "nbformat": 4,
 "nbformat_minor": 5
}
